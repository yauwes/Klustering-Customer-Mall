{
 "cells": [
  {
   "cell_type": "markdown",
   "metadata": {},
   "source": [
    "Kita akan mengklaster atau mengelompokkan penghabisan waktu dengan fitur age, annual income"
   ]
  },
  {
   "cell_type": "code",
   "execution_count": 2,
   "metadata": {},
   "outputs": [
    {
     "data": {
      "text/html": [
       "<div>\n",
       "<style scoped>\n",
       "    .dataframe tbody tr th:only-of-type {\n",
       "        vertical-align: middle;\n",
       "    }\n",
       "\n",
       "    .dataframe tbody tr th {\n",
       "        vertical-align: top;\n",
       "    }\n",
       "\n",
       "    .dataframe thead th {\n",
       "        text-align: right;\n",
       "    }\n",
       "</style>\n",
       "<table border=\"1\" class=\"dataframe\">\n",
       "  <thead>\n",
       "    <tr style=\"text-align: right;\">\n",
       "      <th></th>\n",
       "      <th>Customer ID</th>\n",
       "      <th>Age</th>\n",
       "      <th>Gender</th>\n",
       "      <th>Location</th>\n",
       "      <th>Annual Income</th>\n",
       "      <th>Purchase History</th>\n",
       "      <th>Browsing History</th>\n",
       "      <th>Product Reviews</th>\n",
       "      <th>Time on Site</th>\n",
       "    </tr>\n",
       "  </thead>\n",
       "  <tbody>\n",
       "    <tr>\n",
       "      <th>0</th>\n",
       "      <td>1001</td>\n",
       "      <td>25</td>\n",
       "      <td>Female</td>\n",
       "      <td>City D</td>\n",
       "      <td>45000</td>\n",
       "      <td>[{\"Date\": \"2022-03-05\", \"Category\": \"Clothing\"...</td>\n",
       "      <td>[{\"Timestamp\": \"2022-03-10T14:30:00Z\"}, {\"Time...</td>\n",
       "      <td>Great pair of jeans, very comfortable. Rating:...</td>\n",
       "      <td>32.50</td>\n",
       "    </tr>\n",
       "    <tr>\n",
       "      <th>1</th>\n",
       "      <td>1001</td>\n",
       "      <td>28</td>\n",
       "      <td>Female</td>\n",
       "      <td>City D</td>\n",
       "      <td>52000</td>\n",
       "      <td>[{\"Product Category\": \"Clothing\", \"Purchase Da...</td>\n",
       "      <td>[{\"Product Category\": \"Home &amp; Garden\", \"Timest...</td>\n",
       "      <td>Great customer service!</td>\n",
       "      <td>123.45</td>\n",
       "    </tr>\n",
       "    <tr>\n",
       "      <th>2</th>\n",
       "      <td>1001</td>\n",
       "      <td>28</td>\n",
       "      <td>Female</td>\n",
       "      <td>City D</td>\n",
       "      <td>65000</td>\n",
       "      <td>[{\"Product Category\": \"Electronics\", \"Purchase...</td>\n",
       "      <td>[{\"Product Category\": \"Clothing\", \"Timestamp\":...</td>\n",
       "      <td>Great electronics. The sound quality is excell...</td>\n",
       "      <td>125.60</td>\n",
       "    </tr>\n",
       "    <tr>\n",
       "      <th>3</th>\n",
       "      <td>1001</td>\n",
       "      <td>45</td>\n",
       "      <td>Female</td>\n",
       "      <td>City D</td>\n",
       "      <td>70000</td>\n",
       "      <td>{'Purchase Date': '2022-08-15', 'Product Categ...</td>\n",
       "      <td>{'Timestamp': '2022-09-03 14:30:00'}</td>\n",
       "      <td>{\"Product 1\": {\"Rating\": 4, \"Review\": \"Great e...</td>\n",
       "      <td>327.60</td>\n",
       "    </tr>\n",
       "    <tr>\n",
       "      <th>4</th>\n",
       "      <td>1002</td>\n",
       "      <td>34</td>\n",
       "      <td>Male</td>\n",
       "      <td>City E</td>\n",
       "      <td>45000</td>\n",
       "      <td>{'Purchase Date': '2022-07-25', 'Product Categ...</td>\n",
       "      <td>{'Timestamp': '2022-08-10 17:15:00'}</td>\n",
       "      <td>{\"Product 1\": {\"Rating\": 3, \"Review\": \"Good pr...</td>\n",
       "      <td>214.90</td>\n",
       "    </tr>\n",
       "    <tr>\n",
       "      <th>5</th>\n",
       "      <td>1003</td>\n",
       "      <td>56</td>\n",
       "      <td>Other</td>\n",
       "      <td>City F</td>\n",
       "      <td>90000</td>\n",
       "      <td>{'Purchase Date': '2022-09-01', 'Product Categ...</td>\n",
       "      <td>{'Timestamp': '2022-06-25 10:45:00'}</td>\n",
       "      <td>{\"Product 1\": {\"Rating\": 5, \"Review\": \"Awesome...</td>\n",
       "      <td>486.30</td>\n",
       "    </tr>\n",
       "    <tr>\n",
       "      <th>6</th>\n",
       "      <td>1004</td>\n",
       "      <td>29</td>\n",
       "      <td>Female</td>\n",
       "      <td>City G</td>\n",
       "      <td>60000</td>\n",
       "      <td>{'Purchase Date': '2022-07-20', 'Product Categ...</td>\n",
       "      <td>{'Timestamp': '2022-08-15 13:20:00'}</td>\n",
       "      <td>{\"Product 1\": {\"Rating\": 4, \"Review\": \"Great p...</td>\n",
       "      <td>378.50</td>\n",
       "    </tr>\n",
       "    <tr>\n",
       "      <th>7</th>\n",
       "      <td>1005</td>\n",
       "      <td>42</td>\n",
       "      <td>Male</td>\n",
       "      <td>City H</td>\n",
       "      <td>75000</td>\n",
       "      <td>{'Purchase Date': '2022-08-28', 'Product Categ...</td>\n",
       "      <td>{'Timestamp': '2022-09-12 16:35:00'}</td>\n",
       "      <td>{\"Product 1\": {\"Rating\": 3, \"Review\": \"Good pr...</td>\n",
       "      <td>289.80</td>\n",
       "    </tr>\n",
       "    <tr>\n",
       "      <th>8</th>\n",
       "      <td>1006</td>\n",
       "      <td>51</td>\n",
       "      <td>Other</td>\n",
       "      <td>City I</td>\n",
       "      <td>85000</td>\n",
       "      <td>{'Purchase Date': '2022-09-05', 'Product Categ...</td>\n",
       "      <td>{'Timestamp': '2022-06-28 09:00:00'}</td>\n",
       "      <td>{\"Product 1\": {\"Rating\": 5, \"Review\": \"Outstan...</td>\n",
       "      <td>456.20</td>\n",
       "    </tr>\n",
       "    <tr>\n",
       "      <th>9</th>\n",
       "      <td>1007</td>\n",
       "      <td>36</td>\n",
       "      <td>Female</td>\n",
       "      <td>City J</td>\n",
       "      <td>55000</td>\n",
       "      <td>{'Purchase Date': '2022-07-27', 'Product Categ...</td>\n",
       "      <td>{'Timestamp': '2022-08-17 14:50:00'}</td>\n",
       "      <td>{\"Product 1\": {\"Rating\": 4, \"Review\": \"Good pr...</td>\n",
       "      <td>334.90</td>\n",
       "    </tr>\n",
       "    <tr>\n",
       "      <th>10</th>\n",
       "      <td>1008</td>\n",
       "      <td>48</td>\n",
       "      <td>Male</td>\n",
       "      <td>City K</td>\n",
       "      <td>80000</td>\n",
       "      <td>{'Purchase Date': '2022-09-08', 'Product Categ...</td>\n",
       "      <td>{'Timestamp': '2022-06-30 11:15:00'}</td>\n",
       "      <td>{\"Product 1\": {\"Rating\": 3, \"Review\": \"Good pr...</td>\n",
       "      <td>298.60</td>\n",
       "    </tr>\n",
       "    <tr>\n",
       "      <th>11</th>\n",
       "      <td>1009</td>\n",
       "      <td>25</td>\n",
       "      <td>Other</td>\n",
       "      <td>City L</td>\n",
       "      <td>40000</td>\n",
       "      <td>{'Purchase Date': '2022-08-25', 'Product Categ...</td>\n",
       "      <td>{'Timestamp': '2022-09-14 10:00:00'}</td>\n",
       "      <td>{\"Product 1\": {\"Rating\": 4, \"Review\": \"Great p...</td>\n",
       "      <td>312.50</td>\n",
       "    </tr>\n",
       "    <tr>\n",
       "      <th>12</th>\n",
       "      <td>1001</td>\n",
       "      <td>45</td>\n",
       "      <td>Female</td>\n",
       "      <td>City D</td>\n",
       "      <td>75000</td>\n",
       "      <td>{'Purchase Date': '2022-03-05', 'Product Categ...</td>\n",
       "      <td>{'Timestamp': '2022-03-06 14:30:00'}</td>\n",
       "      <td>{\"Review Text\": \"Great quality clothes!\", \"Rat...</td>\n",
       "      <td>120.00</td>\n",
       "    </tr>\n",
       "    <tr>\n",
       "      <th>13</th>\n",
       "      <td>1002</td>\n",
       "      <td>32</td>\n",
       "      <td>Male</td>\n",
       "      <td>City A</td>\n",
       "      <td>50000</td>\n",
       "      <td>{'Purchase Date': '2022-02-15', 'Product Categ...</td>\n",
       "      <td>{'Timestamp': '2022-05-12 16:15:00'}</td>\n",
       "      <td>{\"Review Text\": \"Good product, but could be ch...</td>\n",
       "      <td>75.00</td>\n",
       "    </tr>\n",
       "    <tr>\n",
       "      <th>14</th>\n",
       "      <td>1003</td>\n",
       "      <td>60</td>\n",
       "      <td>Other</td>\n",
       "      <td>City B</td>\n",
       "      <td>80000</td>\n",
       "      <td>{'Purchase Date': '2022-01-18', 'Product Categ...</td>\n",
       "      <td>{'Timestamp': '2022-06-03 10:45:00'}</td>\n",
       "      <td>{\"Review Text\": \"Very satisfied with my purcha...</td>\n",
       "      <td>200.00</td>\n",
       "    </tr>\n",
       "    <tr>\n",
       "      <th>15</th>\n",
       "      <td>1004</td>\n",
       "      <td>28</td>\n",
       "      <td>Female</td>\n",
       "      <td>City C</td>\n",
       "      <td>45000</td>\n",
       "      <td>{'Purchase Date': '2022-04-25', 'Product Categ...</td>\n",
       "      <td>{'Timestamp': '2022-07-08 13:00:00'}</td>\n",
       "      <td>{\"Review Text\": \"Not what I expected.\", \"Ratin...</td>\n",
       "      <td>150.00</td>\n",
       "    </tr>\n",
       "    <tr>\n",
       "      <th>16</th>\n",
       "      <td>1005</td>\n",
       "      <td>55</td>\n",
       "      <td>Male</td>\n",
       "      <td>City E</td>\n",
       "      <td>90000</td>\n",
       "      <td>{'Purchase Date': '2022-05-20', 'Product Categ...</td>\n",
       "      <td>{'Timestamp': '2022-08-04 09:30:00'}</td>\n",
       "      <td>{\"Review Text\": \"Excellent product, highly rec...</td>\n",
       "      <td>300.00</td>\n",
       "    </tr>\n",
       "    <tr>\n",
       "      <th>17</th>\n",
       "      <td>1006</td>\n",
       "      <td>38</td>\n",
       "      <td>Female</td>\n",
       "      <td>City F</td>\n",
       "      <td>65000</td>\n",
       "      <td>{'Purchase Date': '2022-06-15', 'Product Categ...</td>\n",
       "      <td>{'Timestamp': '2022-09-02 11:15:00'}</td>\n",
       "      <td>{\"Review Text\": \"Awesome purchase!\", \"Rating\": 5}</td>\n",
       "      <td>250.00</td>\n",
       "    </tr>\n",
       "    <tr>\n",
       "      <th>18</th>\n",
       "      <td>1007</td>\n",
       "      <td>42</td>\n",
       "      <td>Male</td>\n",
       "      <td>City G</td>\n",
       "      <td>70000</td>\n",
       "      <td>{'Purchase Date': '2022-07-22', 'Product Categ...</td>\n",
       "      <td>{'Timestamp': '2022-10-07 14:45:00'}</td>\n",
       "      <td>{\"Review Text\": \"Good product, but not worth t...</td>\n",
       "      <td>180.00</td>\n",
       "    </tr>\n",
       "    <tr>\n",
       "      <th>19</th>\n",
       "      <td>1008</td>\n",
       "      <td>50</td>\n",
       "      <td>Female</td>\n",
       "      <td>City H</td>\n",
       "      <td>85000</td>\n",
       "      <td>{'Purchase Date': '2022-08-08', 'Product Categ...</td>\n",
       "      <td>{'Timestamp': '2022-11-02 10:30:00'}</td>\n",
       "      <td>{\"Review Text\": \"Great product, highly recomme...</td>\n",
       "      <td>280.00</td>\n",
       "    </tr>\n",
       "    <tr>\n",
       "      <th>20</th>\n",
       "      <td>1009</td>\n",
       "      <td>35</td>\n",
       "      <td>Male</td>\n",
       "      <td>City I</td>\n",
       "      <td>55000</td>\n",
       "      <td>{'Purchase Date': '2022-09-20', 'Product Categ...</td>\n",
       "      <td>{'Timestamp': '2022-12-06 12:00:00'}</td>\n",
       "      <td>{\"Review Text\": \"Satisfied with my purchase!\",...</td>\n",
       "      <td>220.00</td>\n",
       "    </tr>\n",
       "    <tr>\n",
       "      <th>21</th>\n",
       "      <td>1010</td>\n",
       "      <td>48</td>\n",
       "      <td>Female</td>\n",
       "      <td>City J</td>\n",
       "      <td>75000</td>\n",
       "      <td>{'Purchase Date': '2022-10-15', 'Product Categ...</td>\n",
       "      <td>{'Timestamp': '2022-12-21 15:30:00'}</td>\n",
       "      <td>{\"Review Text\": \"Excellent product, highly rec...</td>\n",
       "      <td>200.00</td>\n",
       "    </tr>\n",
       "    <tr>\n",
       "      <th>22</th>\n",
       "      <td>1011</td>\n",
       "      <td>30</td>\n",
       "      <td>Male</td>\n",
       "      <td>City K</td>\n",
       "      <td>40000</td>\n",
       "      <td>{'Purchase Date': '2022-11-05', 'Product Categ...</td>\n",
       "      <td>{'Timestamp': '2023-01-11 08:45:00'}</td>\n",
       "      <td>{\"Review Text\": \"Good product, but could be be...</td>\n",
       "      <td>160.00</td>\n",
       "    </tr>\n",
       "    <tr>\n",
       "      <th>23</th>\n",
       "      <td>1012</td>\n",
       "      <td>65</td>\n",
       "      <td>Female</td>\n",
       "      <td>City L</td>\n",
       "      <td>95000</td>\n",
       "      <td>{'Purchase Date': '2022-12-25', 'Product Categ...</td>\n",
       "      <td>{'Timestamp': '2023-02-06 13:15:00'}</td>\n",
       "      <td>{\"Review Text\": \"Excellent product, highly rec...</td>\n",
       "      <td>240.00</td>\n",
       "    </tr>\n",
       "    <tr>\n",
       "      <th>24</th>\n",
       "      <td>1001</td>\n",
       "      <td>24</td>\n",
       "      <td>Female</td>\n",
       "      <td>City D</td>\n",
       "      <td>45000</td>\n",
       "      <td>[{\"Purchase Date\": \"2022-09-15\", \"Product Cate...</td>\n",
       "      <td>[{\"Timestamp\": \"2022-08-20T14:30:00Z\"}, {\"Time...</td>\n",
       "      <td>This dress is amazing! I love the color and fi...</td>\n",
       "      <td>120.50</td>\n",
       "    </tr>\n",
       "    <tr>\n",
       "      <th>25</th>\n",
       "      <td>1001</td>\n",
       "      <td>35</td>\n",
       "      <td>Female</td>\n",
       "      <td>City D</td>\n",
       "      <td>50000</td>\n",
       "      <td>{'Purchase Date': '2022-05-15', 'Product Categ...</td>\n",
       "      <td>{'Timestamp': '2022-04-20T14:30:00Z'}</td>\n",
       "      <td>The blouse is so comfortable and stylish. 5 st...</td>\n",
       "      <td>120.00</td>\n",
       "    </tr>\n",
       "    <tr>\n",
       "      <th>26</th>\n",
       "      <td>1002</td>\n",
       "      <td>45</td>\n",
       "      <td>Male</td>\n",
       "      <td>City E</td>\n",
       "      <td>80000</td>\n",
       "      <td>{'Purchase Date': '2022-06-12', 'Product Categ...</td>\n",
       "      <td>{'Timestamp': '2022-05-25T17:45:00Z'}</td>\n",
       "      <td>The headphones are great. Sound quality is exc...</td>\n",
       "      <td>300.00</td>\n",
       "    </tr>\n",
       "    <tr>\n",
       "      <th>27</th>\n",
       "      <td>1003</td>\n",
       "      <td>28</td>\n",
       "      <td>Female</td>\n",
       "      <td>City F</td>\n",
       "      <td>60000</td>\n",
       "      <td>{'Purchase Date': '2022-05-28', 'Product Categ...</td>\n",
       "      <td>{'Timestamp': '2022-06-01T09:15:00Z'}</td>\n",
       "      <td>The dress fits perfectly. I love it. 5 stars!</td>\n",
       "      <td>250.00</td>\n",
       "    </tr>\n",
       "    <tr>\n",
       "      <th>28</th>\n",
       "      <td>1004</td>\n",
       "      <td>52</td>\n",
       "      <td>Male</td>\n",
       "      <td>City G</td>\n",
       "      <td>70000</td>\n",
       "      <td>{'Purchase Date': '2022-05-08', 'Product Categ...</td>\n",
       "      <td>{'Timestamp': '2022-05-22T10:30:00Z'}</td>\n",
       "      <td>The vacuum cleaner works great. 4 stars.</td>\n",
       "      <td>350.00</td>\n",
       "    </tr>\n",
       "    <tr>\n",
       "      <th>29</th>\n",
       "      <td>1005</td>\n",
       "      <td>31</td>\n",
       "      <td>Female</td>\n",
       "      <td>City H</td>\n",
       "      <td>45000</td>\n",
       "      <td>{'Purchase Date': '2022-05-18', 'Product Categ...</td>\n",
       "      <td>{'Timestamp': '2022-05-30T13:45:00Z'}</td>\n",
       "      <td>The top is nice, but the size is a bit small. ...</td>\n",
       "      <td>200.00</td>\n",
       "    </tr>\n",
       "    <tr>\n",
       "      <th>30</th>\n",
       "      <td>1006</td>\n",
       "      <td>48</td>\n",
       "      <td>Male</td>\n",
       "      <td>City I</td>\n",
       "      <td>90000</td>\n",
       "      <td>{'Purchase Date': '2022-05-23', 'Product Categ...</td>\n",
       "      <td>{'Timestamp': '2022-06-06T08:00:00Z'}</td>\n",
       "      <td>The phone is fantastic. 5 stars!</td>\n",
       "      <td>400.00</td>\n",
       "    </tr>\n",
       "    <tr>\n",
       "      <th>31</th>\n",
       "      <td>1007</td>\n",
       "      <td>60</td>\n",
       "      <td>Female</td>\n",
       "      <td>City J</td>\n",
       "      <td>65000</td>\n",
       "      <td>{'Purchase Date': '2022-05-25', 'Product Categ...</td>\n",
       "      <td>{'Timestamp': '2022-06-15T11:30:00Z'}</td>\n",
       "      <td>The shirt is comfortable. 4 stars.</td>\n",
       "      <td>300.00</td>\n",
       "    </tr>\n",
       "    <tr>\n",
       "      <th>32</th>\n",
       "      <td>1008</td>\n",
       "      <td>55</td>\n",
       "      <td>Male</td>\n",
       "      <td>City K</td>\n",
       "      <td>85000</td>\n",
       "      <td>{'Purchase Date': '2022-05-20', 'Product Categ...</td>\n",
       "      <td>{'Timestamp': '2022-05-28T15:15:00Z'}</td>\n",
       "      <td>The laptop is excellent. 5 stars!</td>\n",
       "      <td>450.00</td>\n",
       "    </tr>\n",
       "    <tr>\n",
       "      <th>33</th>\n",
       "      <td>1009</td>\n",
       "      <td>29</td>\n",
       "      <td>Female</td>\n",
       "      <td>City L</td>\n",
       "      <td>40000</td>\n",
       "      <td>{'Purchase Date': '2022-05-16', 'Product Categ...</td>\n",
       "      <td>{'Timestamp': '2022-05-31T16:45:00Z'}</td>\n",
       "      <td>The shoes are comfortable. 4.5 stars.</td>\n",
       "      <td>250.00</td>\n",
       "    </tr>\n",
       "    <tr>\n",
       "      <th>34</th>\n",
       "      <td>1010</td>\n",
       "      <td>58</td>\n",
       "      <td>Male</td>\n",
       "      <td>City M</td>\n",
       "      <td>75000</td>\n",
       "      <td>{'Purchase Date': '2022-05-12', 'Product Categ...</td>\n",
       "      <td>{'Timestamp': '2022-05-29T10:30:00Z'}</td>\n",
       "      <td>The coffee maker is great. 5 stars!</td>\n",
       "      <td>350.00</td>\n",
       "    </tr>\n",
       "    <tr>\n",
       "      <th>35</th>\n",
       "      <td>1011</td>\n",
       "      <td>36</td>\n",
       "      <td>Female</td>\n",
       "      <td>City N</td>\n",
       "      <td>55000</td>\n",
       "      <td>{'Purchase Date': '2022-05-27', 'Product Categ...</td>\n",
       "      <td>{'Timestamp': '2022-06-13T13:00:00Z'}</td>\n",
       "      <td>The skirt is lovely. 4.5 stars.</td>\n",
       "      <td>200.00</td>\n",
       "    </tr>\n",
       "    <tr>\n",
       "      <th>36</th>\n",
       "      <td>1012</td>\n",
       "      <td>42</td>\n",
       "      <td>Male</td>\n",
       "      <td>City O</td>\n",
       "      <td>95000</td>\n",
       "      <td>{'Purchase Date': '2022-05-22', 'Product Categ...</td>\n",
       "      <td>{'Timestamp': '2022-05-26T11:15:00Z'}</td>\n",
       "      <td>The TV is amazing. 5 stars!</td>\n",
       "      <td>300.00</td>\n",
       "    </tr>\n",
       "    <tr>\n",
       "      <th>37</th>\n",
       "      <td>1013</td>\n",
       "      <td>50</td>\n",
       "      <td>Female</td>\n",
       "      <td>City P</td>\n",
       "      <td>68000</td>\n",
       "      <td>{'Purchase Date': '2022-05-19', 'Product Categ...</td>\n",
       "      <td>{'Timestamp': '2022-06-08T14:30:00Z'}</td>\n",
       "      <td>The bedding is comfortable. 4 stars.</td>\n",
       "      <td>250.00</td>\n",
       "    </tr>\n",
       "    <tr>\n",
       "      <th>38</th>\n",
       "      <td>1001</td>\n",
       "      <td>32</td>\n",
       "      <td>Female</td>\n",
       "      <td>City D</td>\n",
       "      <td>65000</td>\n",
       "      <td>[{\"Product Category\": \"Clothing\", \"Purchase Da...</td>\n",
       "      <td>[{\"Product Category\": \"Home &amp; Garden\", \"Timest...</td>\n",
       "      <td>Great find! 5 stars</td>\n",
       "      <td>72.30</td>\n",
       "    </tr>\n",
       "    <tr>\n",
       "      <th>39</th>\n",
       "      <td>1001</td>\n",
       "      <td>35</td>\n",
       "      <td>Female</td>\n",
       "      <td>City D</td>\n",
       "      <td>60000</td>\n",
       "      <td>[{\"Product Category\": \"Electronics\", \"Purchase...</td>\n",
       "      <td>[{\"Product Category\": \"Home &amp; Garden\", \"Timest...</td>\n",
       "      <td>Great product, very happy with my purchase.</td>\n",
       "      <td>123.60</td>\n",
       "    </tr>\n",
       "    <tr>\n",
       "      <th>40</th>\n",
       "      <td>1002</td>\n",
       "      <td>42</td>\n",
       "      <td>Male</td>\n",
       "      <td>City E</td>\n",
       "      <td>75000</td>\n",
       "      <td>[{\"Product Category\": \"Clothing\", \"Purchase Da...</td>\n",
       "      <td>[{\"Product Category\": \"Electronics\", \"Timestam...</td>\n",
       "      <td>The product arrived quickly and in great condi...</td>\n",
       "      <td>246.90</td>\n",
       "    </tr>\n",
       "    <tr>\n",
       "      <th>41</th>\n",
       "      <td>1001</td>\n",
       "      <td>32</td>\n",
       "      <td>Female</td>\n",
       "      <td>City D</td>\n",
       "      <td>55000</td>\n",
       "      <td>[{\"Product Category\": \"Electronics\", \"Purchase...</td>\n",
       "      <td>[{\"Product Category\": \"Home &amp; Garden\", \"Timest...</td>\n",
       "      <td>Great headphones, sound quality is amazing.</td>\n",
       "      <td>75.20</td>\n",
       "    </tr>\n",
       "    <tr>\n",
       "      <th>42</th>\n",
       "      <td>1001</td>\n",
       "      <td>28</td>\n",
       "      <td>Female</td>\n",
       "      <td>City D</td>\n",
       "      <td>65000</td>\n",
       "      <td>[{\"Product Category\": \"Clothing\", \"Purchase Da...</td>\n",
       "      <td>[{\"Product Category\": \"Home &amp; Garden\", \"Timest...</td>\n",
       "      <td>Great purchase! The shoes are so comfortable a...</td>\n",
       "      <td>120.50</td>\n",
       "    </tr>\n",
       "    <tr>\n",
       "      <th>43</th>\n",
       "      <td>1002</td>\n",
       "      <td>42</td>\n",
       "      <td>Male</td>\n",
       "      <td>City E</td>\n",
       "      <td>80000</td>\n",
       "      <td>[{\"Product Category\": \"Electronics\", \"Purchase...</td>\n",
       "      <td>[{\"Product Category\": \"Clothing\", \"Timestamp\":...</td>\n",
       "      <td>I'm really happy with my new phone. The batter...</td>\n",
       "      <td>250.00</td>\n",
       "    </tr>\n",
       "    <tr>\n",
       "      <th>44</th>\n",
       "      <td>1003</td>\n",
       "      <td>35</td>\n",
       "      <td>Other</td>\n",
       "      <td>City F</td>\n",
       "      <td>50000</td>\n",
       "      <td>[{\"Product Category\": \"Clothing\", \"Purchase Da...</td>\n",
       "      <td>[{\"Product Category\": \"Home &amp; Garden\", \"Timest...</td>\n",
       "      <td>The headphones are amazing! The sound quality ...</td>\n",
       "      <td>75.00</td>\n",
       "    </tr>\n",
       "    <tr>\n",
       "      <th>45</th>\n",
       "      <td>1004</td>\n",
       "      <td>52</td>\n",
       "      <td>Female</td>\n",
       "      <td>City G</td>\n",
       "      <td>100000</td>\n",
       "      <td>[{\"Product Category\": \"Clothing\", \"Purchase Da...</td>\n",
       "      <td>[{\"Product Category\": \"Electronics\", \"Timestam...</td>\n",
       "      <td>I love my new kitchen gadget! It's so efficien...</td>\n",
       "      <td>300.00</td>\n",
       "    </tr>\n",
       "    <tr>\n",
       "      <th>46</th>\n",
       "      <td>1005</td>\n",
       "      <td>24</td>\n",
       "      <td>Male</td>\n",
       "      <td>City H</td>\n",
       "      <td>45000</td>\n",
       "      <td>[{\"Product Category\": \"Electronics\", \"Purchase...</td>\n",
       "      <td>[{\"Product Category\": \"Clothing\", \"Timestamp\":...</td>\n",
       "      <td>The laptop is perfect for my needs. It's light...</td>\n",
       "      <td>100.00</td>\n",
       "    </tr>\n",
       "    <tr>\n",
       "      <th>47</th>\n",
       "      <td>1001</td>\n",
       "      <td>34</td>\n",
       "      <td>Female</td>\n",
       "      <td>City D</td>\n",
       "      <td>55000</td>\n",
       "      <td>[{\"Purchase Date\": \"2022-07-02\",\"Product Categ...</td>\n",
       "      <td>[{\"Timestamp\": \"2022-08-14T09:30:00Z\"},{\"Times...</td>\n",
       "      <td>The clothing arrived quickly and fits great! 5...</td>\n",
       "      <td>120.00</td>\n",
       "    </tr>\n",
       "    <tr>\n",
       "      <th>48</th>\n",
       "      <td>1002</td>\n",
       "      <td>45</td>\n",
       "      <td>Male</td>\n",
       "      <td>City E</td>\n",
       "      <td>87000</td>\n",
       "      <td>[{\"Purchase Date\": \"2022-07-08\",\"Product Categ...</td>\n",
       "      <td>[{\"Timestamp\": \"2022-08-12T16:00:00Z\"},{\"Times...</td>\n",
       "      <td>The electronics were excellent quality and arr...</td>\n",
       "      <td>350.00</td>\n",
       "    </tr>\n",
       "    <tr>\n",
       "      <th>49</th>\n",
       "      <td>1003</td>\n",
       "      <td>29</td>\n",
       "      <td>Other</td>\n",
       "      <td>City F</td>\n",
       "      <td>42000</td>\n",
       "      <td>[{\"Purchase Date\": \"2022-07-01\",\"Product Categ...</td>\n",
       "      <td>[{\"Timestamp\": \"2022-08-13T13:45:00Z\"},{\"Times...</td>\n",
       "      <td>The electronics were as described and arrived ...</td>\n",
       "      <td>200.00</td>\n",
       "    </tr>\n",
       "  </tbody>\n",
       "</table>\n",
       "</div>"
      ],
      "text/plain": [
       "    Customer ID  Age  Gender Location  Annual Income  \\\n",
       "0          1001   25  Female   City D          45000   \n",
       "1          1001   28  Female   City D          52000   \n",
       "2          1001   28  Female   City D          65000   \n",
       "3          1001   45  Female   City D          70000   \n",
       "4          1002   34    Male   City E          45000   \n",
       "5          1003   56   Other   City F          90000   \n",
       "6          1004   29  Female   City G          60000   \n",
       "7          1005   42    Male   City H          75000   \n",
       "8          1006   51   Other   City I          85000   \n",
       "9          1007   36  Female   City J          55000   \n",
       "10         1008   48    Male   City K          80000   \n",
       "11         1009   25   Other   City L          40000   \n",
       "12         1001   45  Female   City D          75000   \n",
       "13         1002   32    Male   City A          50000   \n",
       "14         1003   60   Other   City B          80000   \n",
       "15         1004   28  Female   City C          45000   \n",
       "16         1005   55    Male   City E          90000   \n",
       "17         1006   38  Female   City F          65000   \n",
       "18         1007   42    Male   City G          70000   \n",
       "19         1008   50  Female   City H          85000   \n",
       "20         1009   35    Male   City I          55000   \n",
       "21         1010   48  Female   City J          75000   \n",
       "22         1011   30    Male   City K          40000   \n",
       "23         1012   65  Female   City L          95000   \n",
       "24         1001   24  Female   City D          45000   \n",
       "25         1001   35  Female   City D          50000   \n",
       "26         1002   45    Male   City E          80000   \n",
       "27         1003   28  Female   City F          60000   \n",
       "28         1004   52    Male   City G          70000   \n",
       "29         1005   31  Female   City H          45000   \n",
       "30         1006   48    Male   City I          90000   \n",
       "31         1007   60  Female   City J          65000   \n",
       "32         1008   55    Male   City K          85000   \n",
       "33         1009   29  Female   City L          40000   \n",
       "34         1010   58    Male   City M          75000   \n",
       "35         1011   36  Female   City N          55000   \n",
       "36         1012   42    Male   City O          95000   \n",
       "37         1013   50  Female   City P          68000   \n",
       "38         1001   32  Female   City D          65000   \n",
       "39         1001   35  Female   City D          60000   \n",
       "40         1002   42    Male   City E          75000   \n",
       "41         1001   32  Female   City D          55000   \n",
       "42         1001   28  Female   City D          65000   \n",
       "43         1002   42    Male   City E          80000   \n",
       "44         1003   35   Other   City F          50000   \n",
       "45         1004   52  Female   City G         100000   \n",
       "46         1005   24    Male   City H          45000   \n",
       "47         1001   34  Female   City D          55000   \n",
       "48         1002   45    Male   City E          87000   \n",
       "49         1003   29   Other   City F          42000   \n",
       "\n",
       "                                     Purchase History  \\\n",
       "0   [{\"Date\": \"2022-03-05\", \"Category\": \"Clothing\"...   \n",
       "1   [{\"Product Category\": \"Clothing\", \"Purchase Da...   \n",
       "2   [{\"Product Category\": \"Electronics\", \"Purchase...   \n",
       "3   {'Purchase Date': '2022-08-15', 'Product Categ...   \n",
       "4   {'Purchase Date': '2022-07-25', 'Product Categ...   \n",
       "5   {'Purchase Date': '2022-09-01', 'Product Categ...   \n",
       "6   {'Purchase Date': '2022-07-20', 'Product Categ...   \n",
       "7   {'Purchase Date': '2022-08-28', 'Product Categ...   \n",
       "8   {'Purchase Date': '2022-09-05', 'Product Categ...   \n",
       "9   {'Purchase Date': '2022-07-27', 'Product Categ...   \n",
       "10  {'Purchase Date': '2022-09-08', 'Product Categ...   \n",
       "11  {'Purchase Date': '2022-08-25', 'Product Categ...   \n",
       "12  {'Purchase Date': '2022-03-05', 'Product Categ...   \n",
       "13  {'Purchase Date': '2022-02-15', 'Product Categ...   \n",
       "14  {'Purchase Date': '2022-01-18', 'Product Categ...   \n",
       "15  {'Purchase Date': '2022-04-25', 'Product Categ...   \n",
       "16  {'Purchase Date': '2022-05-20', 'Product Categ...   \n",
       "17  {'Purchase Date': '2022-06-15', 'Product Categ...   \n",
       "18  {'Purchase Date': '2022-07-22', 'Product Categ...   \n",
       "19  {'Purchase Date': '2022-08-08', 'Product Categ...   \n",
       "20  {'Purchase Date': '2022-09-20', 'Product Categ...   \n",
       "21  {'Purchase Date': '2022-10-15', 'Product Categ...   \n",
       "22  {'Purchase Date': '2022-11-05', 'Product Categ...   \n",
       "23  {'Purchase Date': '2022-12-25', 'Product Categ...   \n",
       "24  [{\"Purchase Date\": \"2022-09-15\", \"Product Cate...   \n",
       "25  {'Purchase Date': '2022-05-15', 'Product Categ...   \n",
       "26  {'Purchase Date': '2022-06-12', 'Product Categ...   \n",
       "27  {'Purchase Date': '2022-05-28', 'Product Categ...   \n",
       "28  {'Purchase Date': '2022-05-08', 'Product Categ...   \n",
       "29  {'Purchase Date': '2022-05-18', 'Product Categ...   \n",
       "30  {'Purchase Date': '2022-05-23', 'Product Categ...   \n",
       "31  {'Purchase Date': '2022-05-25', 'Product Categ...   \n",
       "32  {'Purchase Date': '2022-05-20', 'Product Categ...   \n",
       "33  {'Purchase Date': '2022-05-16', 'Product Categ...   \n",
       "34  {'Purchase Date': '2022-05-12', 'Product Categ...   \n",
       "35  {'Purchase Date': '2022-05-27', 'Product Categ...   \n",
       "36  {'Purchase Date': '2022-05-22', 'Product Categ...   \n",
       "37  {'Purchase Date': '2022-05-19', 'Product Categ...   \n",
       "38  [{\"Product Category\": \"Clothing\", \"Purchase Da...   \n",
       "39  [{\"Product Category\": \"Electronics\", \"Purchase...   \n",
       "40  [{\"Product Category\": \"Clothing\", \"Purchase Da...   \n",
       "41  [{\"Product Category\": \"Electronics\", \"Purchase...   \n",
       "42  [{\"Product Category\": \"Clothing\", \"Purchase Da...   \n",
       "43  [{\"Product Category\": \"Electronics\", \"Purchase...   \n",
       "44  [{\"Product Category\": \"Clothing\", \"Purchase Da...   \n",
       "45  [{\"Product Category\": \"Clothing\", \"Purchase Da...   \n",
       "46  [{\"Product Category\": \"Electronics\", \"Purchase...   \n",
       "47  [{\"Purchase Date\": \"2022-07-02\",\"Product Categ...   \n",
       "48  [{\"Purchase Date\": \"2022-07-08\",\"Product Categ...   \n",
       "49  [{\"Purchase Date\": \"2022-07-01\",\"Product Categ...   \n",
       "\n",
       "                                     Browsing History  \\\n",
       "0   [{\"Timestamp\": \"2022-03-10T14:30:00Z\"}, {\"Time...   \n",
       "1   [{\"Product Category\": \"Home & Garden\", \"Timest...   \n",
       "2   [{\"Product Category\": \"Clothing\", \"Timestamp\":...   \n",
       "3                {'Timestamp': '2022-09-03 14:30:00'}   \n",
       "4                {'Timestamp': '2022-08-10 17:15:00'}   \n",
       "5                {'Timestamp': '2022-06-25 10:45:00'}   \n",
       "6                {'Timestamp': '2022-08-15 13:20:00'}   \n",
       "7                {'Timestamp': '2022-09-12 16:35:00'}   \n",
       "8                {'Timestamp': '2022-06-28 09:00:00'}   \n",
       "9                {'Timestamp': '2022-08-17 14:50:00'}   \n",
       "10               {'Timestamp': '2022-06-30 11:15:00'}   \n",
       "11               {'Timestamp': '2022-09-14 10:00:00'}   \n",
       "12               {'Timestamp': '2022-03-06 14:30:00'}   \n",
       "13               {'Timestamp': '2022-05-12 16:15:00'}   \n",
       "14               {'Timestamp': '2022-06-03 10:45:00'}   \n",
       "15               {'Timestamp': '2022-07-08 13:00:00'}   \n",
       "16               {'Timestamp': '2022-08-04 09:30:00'}   \n",
       "17               {'Timestamp': '2022-09-02 11:15:00'}   \n",
       "18               {'Timestamp': '2022-10-07 14:45:00'}   \n",
       "19               {'Timestamp': '2022-11-02 10:30:00'}   \n",
       "20               {'Timestamp': '2022-12-06 12:00:00'}   \n",
       "21               {'Timestamp': '2022-12-21 15:30:00'}   \n",
       "22               {'Timestamp': '2023-01-11 08:45:00'}   \n",
       "23               {'Timestamp': '2023-02-06 13:15:00'}   \n",
       "24  [{\"Timestamp\": \"2022-08-20T14:30:00Z\"}, {\"Time...   \n",
       "25              {'Timestamp': '2022-04-20T14:30:00Z'}   \n",
       "26              {'Timestamp': '2022-05-25T17:45:00Z'}   \n",
       "27              {'Timestamp': '2022-06-01T09:15:00Z'}   \n",
       "28              {'Timestamp': '2022-05-22T10:30:00Z'}   \n",
       "29              {'Timestamp': '2022-05-30T13:45:00Z'}   \n",
       "30              {'Timestamp': '2022-06-06T08:00:00Z'}   \n",
       "31              {'Timestamp': '2022-06-15T11:30:00Z'}   \n",
       "32              {'Timestamp': '2022-05-28T15:15:00Z'}   \n",
       "33              {'Timestamp': '2022-05-31T16:45:00Z'}   \n",
       "34              {'Timestamp': '2022-05-29T10:30:00Z'}   \n",
       "35              {'Timestamp': '2022-06-13T13:00:00Z'}   \n",
       "36              {'Timestamp': '2022-05-26T11:15:00Z'}   \n",
       "37              {'Timestamp': '2022-06-08T14:30:00Z'}   \n",
       "38  [{\"Product Category\": \"Home & Garden\", \"Timest...   \n",
       "39  [{\"Product Category\": \"Home & Garden\", \"Timest...   \n",
       "40  [{\"Product Category\": \"Electronics\", \"Timestam...   \n",
       "41  [{\"Product Category\": \"Home & Garden\", \"Timest...   \n",
       "42  [{\"Product Category\": \"Home & Garden\", \"Timest...   \n",
       "43  [{\"Product Category\": \"Clothing\", \"Timestamp\":...   \n",
       "44  [{\"Product Category\": \"Home & Garden\", \"Timest...   \n",
       "45  [{\"Product Category\": \"Electronics\", \"Timestam...   \n",
       "46  [{\"Product Category\": \"Clothing\", \"Timestamp\":...   \n",
       "47  [{\"Timestamp\": \"2022-08-14T09:30:00Z\"},{\"Times...   \n",
       "48  [{\"Timestamp\": \"2022-08-12T16:00:00Z\"},{\"Times...   \n",
       "49  [{\"Timestamp\": \"2022-08-13T13:45:00Z\"},{\"Times...   \n",
       "\n",
       "                                      Product Reviews  Time on Site  \n",
       "0   Great pair of jeans, very comfortable. Rating:...         32.50  \n",
       "1                             Great customer service!        123.45  \n",
       "2   Great electronics. The sound quality is excell...        125.60  \n",
       "3   {\"Product 1\": {\"Rating\": 4, \"Review\": \"Great e...        327.60  \n",
       "4   {\"Product 1\": {\"Rating\": 3, \"Review\": \"Good pr...        214.90  \n",
       "5   {\"Product 1\": {\"Rating\": 5, \"Review\": \"Awesome...        486.30  \n",
       "6   {\"Product 1\": {\"Rating\": 4, \"Review\": \"Great p...        378.50  \n",
       "7   {\"Product 1\": {\"Rating\": 3, \"Review\": \"Good pr...        289.80  \n",
       "8   {\"Product 1\": {\"Rating\": 5, \"Review\": \"Outstan...        456.20  \n",
       "9   {\"Product 1\": {\"Rating\": 4, \"Review\": \"Good pr...        334.90  \n",
       "10  {\"Product 1\": {\"Rating\": 3, \"Review\": \"Good pr...        298.60  \n",
       "11  {\"Product 1\": {\"Rating\": 4, \"Review\": \"Great p...        312.50  \n",
       "12  {\"Review Text\": \"Great quality clothes!\", \"Rat...        120.00  \n",
       "13  {\"Review Text\": \"Good product, but could be ch...         75.00  \n",
       "14  {\"Review Text\": \"Very satisfied with my purcha...        200.00  \n",
       "15  {\"Review Text\": \"Not what I expected.\", \"Ratin...        150.00  \n",
       "16  {\"Review Text\": \"Excellent product, highly rec...        300.00  \n",
       "17  {\"Review Text\": \"Awesome purchase!\", \"Rating\": 5}        250.00  \n",
       "18  {\"Review Text\": \"Good product, but not worth t...        180.00  \n",
       "19  {\"Review Text\": \"Great product, highly recomme...        280.00  \n",
       "20  {\"Review Text\": \"Satisfied with my purchase!\",...        220.00  \n",
       "21  {\"Review Text\": \"Excellent product, highly rec...        200.00  \n",
       "22  {\"Review Text\": \"Good product, but could be be...        160.00  \n",
       "23  {\"Review Text\": \"Excellent product, highly rec...        240.00  \n",
       "24  This dress is amazing! I love the color and fi...        120.50  \n",
       "25  The blouse is so comfortable and stylish. 5 st...        120.00  \n",
       "26  The headphones are great. Sound quality is exc...        300.00  \n",
       "27      The dress fits perfectly. I love it. 5 stars!        250.00  \n",
       "28           The vacuum cleaner works great. 4 stars.        350.00  \n",
       "29  The top is nice, but the size is a bit small. ...        200.00  \n",
       "30                   The phone is fantastic. 5 stars!        400.00  \n",
       "31                 The shirt is comfortable. 4 stars.        300.00  \n",
       "32                  The laptop is excellent. 5 stars!        450.00  \n",
       "33              The shoes are comfortable. 4.5 stars.        250.00  \n",
       "34                The coffee maker is great. 5 stars!        350.00  \n",
       "35                    The skirt is lovely. 4.5 stars.        200.00  \n",
       "36                        The TV is amazing. 5 stars!        300.00  \n",
       "37               The bedding is comfortable. 4 stars.        250.00  \n",
       "38                                Great find! 5 stars         72.30  \n",
       "39        Great product, very happy with my purchase.        123.60  \n",
       "40  The product arrived quickly and in great condi...        246.90  \n",
       "41        Great headphones, sound quality is amazing.         75.20  \n",
       "42  Great purchase! The shoes are so comfortable a...        120.50  \n",
       "43  I'm really happy with my new phone. The batter...        250.00  \n",
       "44  The headphones are amazing! The sound quality ...         75.00  \n",
       "45  I love my new kitchen gadget! It's so efficien...        300.00  \n",
       "46  The laptop is perfect for my needs. It's light...        100.00  \n",
       "47  The clothing arrived quickly and fits great! 5...        120.00  \n",
       "48  The electronics were excellent quality and arr...        350.00  \n",
       "49  The electronics were as described and arrived ...        200.00  "
      ]
     },
     "execution_count": 2,
     "metadata": {},
     "output_type": "execute_result"
    }
   ],
   "source": [
    "import pandas as pd\n",
    "import seaborn as sns\n",
    "import matplotlib.pyplot as plt\n",
    "from sklearn.cluster import KMeans\n",
    "from sklearn.metrics import silhouette_score\n",
    "import plotly.graph_objs as go\n",
    "import json\n",
    "import pandas as pd # data processing, CSV file I/O (e.g. pd.read_csv)\n",
    "import matplotlib.pyplot as plt\n",
    "import seaborn as sns\n",
    "from sklearn.metrics import silhouette_score\n",
    "from sklearn.cluster import KMeans\n",
    "\n",
    "\n",
    "\n",
    "data = pd.read_csv('/Users/erwinqodariyah/Documents/SEMESTER 3 /Machine Learning/Dataset/E-commerce.csv')\n",
    "data"
   ]
  },
  {
   "cell_type": "code",
   "execution_count": 3,
   "metadata": {},
   "outputs": [
    {
     "data": {
      "text/plain": [
       "0     [{\"Timestamp\": \"2022-03-10T14:30:00Z\"}, {\"Time...\n",
       "1     [{\"Product Category\": \"Home & Garden\", \"Timest...\n",
       "2     [{\"Product Category\": \"Clothing\", \"Timestamp\":...\n",
       "3                  {'Timestamp': '2022-09-03 14:30:00'}\n",
       "4                  {'Timestamp': '2022-08-10 17:15:00'}\n",
       "5                  {'Timestamp': '2022-06-25 10:45:00'}\n",
       "6                  {'Timestamp': '2022-08-15 13:20:00'}\n",
       "7                  {'Timestamp': '2022-09-12 16:35:00'}\n",
       "8                  {'Timestamp': '2022-06-28 09:00:00'}\n",
       "9                  {'Timestamp': '2022-08-17 14:50:00'}\n",
       "10                 {'Timestamp': '2022-06-30 11:15:00'}\n",
       "11                 {'Timestamp': '2022-09-14 10:00:00'}\n",
       "12                 {'Timestamp': '2022-03-06 14:30:00'}\n",
       "13                 {'Timestamp': '2022-05-12 16:15:00'}\n",
       "14                 {'Timestamp': '2022-06-03 10:45:00'}\n",
       "15                 {'Timestamp': '2022-07-08 13:00:00'}\n",
       "16                 {'Timestamp': '2022-08-04 09:30:00'}\n",
       "17                 {'Timestamp': '2022-09-02 11:15:00'}\n",
       "18                 {'Timestamp': '2022-10-07 14:45:00'}\n",
       "19                 {'Timestamp': '2022-11-02 10:30:00'}\n",
       "20                 {'Timestamp': '2022-12-06 12:00:00'}\n",
       "21                 {'Timestamp': '2022-12-21 15:30:00'}\n",
       "22                 {'Timestamp': '2023-01-11 08:45:00'}\n",
       "23                 {'Timestamp': '2023-02-06 13:15:00'}\n",
       "24    [{\"Timestamp\": \"2022-08-20T14:30:00Z\"}, {\"Time...\n",
       "25                {'Timestamp': '2022-04-20T14:30:00Z'}\n",
       "26                {'Timestamp': '2022-05-25T17:45:00Z'}\n",
       "27                {'Timestamp': '2022-06-01T09:15:00Z'}\n",
       "28                {'Timestamp': '2022-05-22T10:30:00Z'}\n",
       "29                {'Timestamp': '2022-05-30T13:45:00Z'}\n",
       "30                {'Timestamp': '2022-06-06T08:00:00Z'}\n",
       "31                {'Timestamp': '2022-06-15T11:30:00Z'}\n",
       "32                {'Timestamp': '2022-05-28T15:15:00Z'}\n",
       "33                {'Timestamp': '2022-05-31T16:45:00Z'}\n",
       "34                {'Timestamp': '2022-05-29T10:30:00Z'}\n",
       "35                {'Timestamp': '2022-06-13T13:00:00Z'}\n",
       "36                {'Timestamp': '2022-05-26T11:15:00Z'}\n",
       "37                {'Timestamp': '2022-06-08T14:30:00Z'}\n",
       "38    [{\"Product Category\": \"Home & Garden\", \"Timest...\n",
       "39    [{\"Product Category\": \"Home & Garden\", \"Timest...\n",
       "40    [{\"Product Category\": \"Electronics\", \"Timestam...\n",
       "41    [{\"Product Category\": \"Home & Garden\", \"Timest...\n",
       "42    [{\"Product Category\": \"Home & Garden\", \"Timest...\n",
       "43    [{\"Product Category\": \"Clothing\", \"Timestamp\":...\n",
       "44    [{\"Product Category\": \"Home & Garden\", \"Timest...\n",
       "45    [{\"Product Category\": \"Electronics\", \"Timestam...\n",
       "46    [{\"Product Category\": \"Clothing\", \"Timestamp\":...\n",
       "47    [{\"Timestamp\": \"2022-08-14T09:30:00Z\"},{\"Times...\n",
       "48    [{\"Timestamp\": \"2022-08-12T16:00:00Z\"},{\"Times...\n",
       "49    [{\"Timestamp\": \"2022-08-13T13:45:00Z\"},{\"Times...\n",
       "Name: Browsing History, dtype: object"
      ]
     },
     "execution_count": 3,
     "metadata": {},
     "output_type": "execute_result"
    }
   ],
   "source": [
    "data['Browsing History']"
   ]
  },
  {
   "cell_type": "code",
   "execution_count": 4,
   "metadata": {},
   "outputs": [
    {
     "name": "stdout",
     "output_type": "stream",
     "text": [
      "<class 'pandas.core.frame.DataFrame'>\n",
      "RangeIndex: 50 entries, 0 to 49\n",
      "Data columns (total 9 columns):\n",
      " #   Column            Non-Null Count  Dtype  \n",
      "---  ------            --------------  -----  \n",
      " 0   Customer ID       50 non-null     int64  \n",
      " 1   Age               50 non-null     int64  \n",
      " 2   Gender            50 non-null     object \n",
      " 3   Location          50 non-null     object \n",
      " 4   Annual Income     50 non-null     int64  \n",
      " 5   Purchase History  50 non-null     object \n",
      " 6   Browsing History  50 non-null     object \n",
      " 7   Product Reviews   50 non-null     object \n",
      " 8   Time on Site      50 non-null     float64\n",
      "dtypes: float64(1), int64(3), object(5)\n",
      "memory usage: 3.6+ KB\n"
     ]
    }
   ],
   "source": [
    "#cek tipe data untuk tahu perlakuan pada EDA dan Klustering\n",
    "data.info()"
   ]
  },
  {
   "cell_type": "code",
   "execution_count": 5,
   "metadata": {},
   "outputs": [],
   "source": [
    "del data['Customer ID']"
   ]
  },
  {
   "cell_type": "code",
   "execution_count": 6,
   "metadata": {},
   "outputs": [
    {
     "name": "stdout",
     "output_type": "stream",
     "text": [
      "<class 'pandas.core.frame.DataFrame'>\n",
      "RangeIndex: 50 entries, 0 to 49\n",
      "Data columns (total 8 columns):\n",
      " #   Column            Non-Null Count  Dtype  \n",
      "---  ------            --------------  -----  \n",
      " 0   Age               50 non-null     int64  \n",
      " 1   Gender            50 non-null     object \n",
      " 2   Location          50 non-null     object \n",
      " 3   Annual Income     50 non-null     int64  \n",
      " 4   Purchase History  50 non-null     object \n",
      " 5   Browsing History  50 non-null     object \n",
      " 6   Product Reviews   50 non-null     object \n",
      " 7   Time on Site      50 non-null     float64\n",
      "dtypes: float64(1), int64(2), object(5)\n",
      "memory usage: 3.3+ KB\n"
     ]
    }
   ],
   "source": [
    "data['Age'] = data['Age'].astype('int')\n",
    "data.info()"
   ]
  },
  {
   "cell_type": "code",
   "execution_count": 7,
   "metadata": {},
   "outputs": [
    {
     "name": "stdout",
     "output_type": "stream",
     "text": [
      "int64\n"
     ]
    }
   ],
   "source": [
    "print(data['Age'].dtypes)"
   ]
  },
  {
   "cell_type": "code",
   "execution_count": 8,
   "metadata": {},
   "outputs": [
    {
     "data": {
      "text/plain": [
       "Age                 0\n",
       "Gender              0\n",
       "Location            0\n",
       "Annual Income       0\n",
       "Purchase History    0\n",
       "Browsing History    0\n",
       "Product Reviews     0\n",
       "Time on Site        0\n",
       "dtype: int64"
      ]
     },
     "execution_count": 8,
     "metadata": {},
     "output_type": "execute_result"
    }
   ],
   "source": [
    "#cek data missing value\n",
    "data.isnull().sum()"
   ]
  },
  {
   "cell_type": "code",
   "execution_count": 9,
   "metadata": {},
   "outputs": [
    {
     "data": {
      "text/plain": [
       "Age                 22\n",
       "Gender               3\n",
       "Location            16\n",
       "Annual Income       17\n",
       "Purchase History    50\n",
       "Browsing History    50\n",
       "Product Reviews     47\n",
       "Time on Site        32\n",
       "dtype: int64"
      ]
     },
     "execution_count": 9,
     "metadata": {},
     "output_type": "execute_result"
    }
   ],
   "source": [
    "#cek ada berapa nilai unik\n",
    "data.nunique()"
   ]
  },
  {
   "cell_type": "code",
   "execution_count": 10,
   "metadata": {},
   "outputs": [
    {
     "data": {
      "image/png": "[encoded data removed]",
      "text/plain": [
       "<Figure size 1500x1000 with 4 Axes>"
      ]
     },
     "metadata": {},
     "output_type": "display_data"
    }
   ],
   "source": [
    "\n",
    "kolom_1 = ['Age', 'Gender', 'Time on Site', 'Annual Income']\n",
    "\n",
    "color_palette = sns.color_palette(\"Set1\", len(kolom_1))\n",
    "plt.figure(figsize = (15, 10))\n",
    "\n",
    "for i, column in enumerate(kolom_1, 1):\n",
    "    plt.subplot((len(kolom_1)//3)+1, 3, i)\n",
    "    sns.boxplot(data=data, x=column, color=color_palette[i - 1])\n",
    "    plt.xlabel(column)\n",
    "    plt.title(f'{column} Boxplot')\n",
    "\n",
    "plt.tight_layout()\n",
    "plt.show()"
   ]
  },
  {
   "cell_type": "code",
   "execution_count": 11,
   "metadata": {},
   "outputs": [],
   "source": [
    "data['Pendapatan_Norm'] = (data['Annual Income'] - data['Annual Income'].min()) / (data['Annual Income'].max() - data['Annual Income'].min()) * 100"
   ]
  },
  {
   "cell_type": "markdown",
   "metadata": {},
   "source": [
    "Karena boxplot pada fitur gender kurang bagus saya mencoba untuk ngasi tahu berapa banyak gender pada dataset tersebut"
   ]
  },
  {
   "cell_type": "code",
   "execution_count": 12,
   "metadata": {},
   "outputs": [
    {
     "data": {
      "text/plain": [
       "<Figure size 2000x1000 with 0 Axes>"
      ]
     },
     "metadata": {},
     "output_type": "display_data"
    },
    {
     "data": {
      "image/png": "[encoded data removed]",
      "text/plain": [
       "<Figure size 640x480 with 1 Axes>"
      ]
     },
     "metadata": {},
     "output_type": "display_data"
    }
   ],
   "source": [
    "# kita akan menampilkan gender,annual income, dan screen on site\n",
    "plt.figure(figsize = (20, 10))\n",
    "fig = plt.figure()\n",
    "ax = fig.add_subplot(111, projection='3d')\n",
    "\n",
    "x = data['Age']\n",
    "y = data['Pendapatan_Norm']\n",
    "z = data['Time on Site']\n",
    "\n",
    "ax.scatter(x, y, z, c='b', marker='o')\n",
    "ax.set_xlabel('Age')\n",
    "ax.set_ylabel('Annual Income')\n",
    "ax.set_zlabel('Time on Site')\n",
    "\n",
    "plt.ion()\n",
    "plt.show()"
   ]
  },
  {
   "cell_type": "code",
   "execution_count": 13,
   "metadata": {},
   "outputs": [
    {
     "data": {
      "application/vnd.plotly.v1+json": {
       "config": {
        "plotlyServerURL": "https://plot.ly"
       },
       "data": [
        {
         "mode": "markers",
         "type": "scatter3d",
         "x": [
          25,
          28,
          28,
          45,
          34,
          56,
          29,
          42,
          51,
          36,
          48,
          25,
          45,
          32,
          60,
          28,
          55,
          38,
          42,
          50,
          35,
          48,
          30,
          65,
          24,
          35,
          45,
          28,
          52,
          31,
          48,
          60,
          55,
          29,
          58,
          36,
          42,
          50,
          32,
          35,
          42,
          32,
          28,
          42,
          35,
          52,
          24,
          34,
          45,
          29
         ],
         "y": [
          8.333333333333332,
          20,
          41.66666666666667,
          50,
          8.333333333333332,
          83.33333333333334,
          33.33333333333333,
          58.333333333333336,
          75,
          25,
          66.66666666666666,
          0,
          58.333333333333336,
          16.666666666666664,
          66.66666666666666,
          8.333333333333332,
          83.33333333333334,
          41.66666666666667,
          50,
          75,
          25,
          58.333333333333336,
          0,
          91.66666666666666,
          8.333333333333332,
          16.666666666666664,
          66.66666666666666,
          33.33333333333333,
          50,
          8.333333333333332,
          83.33333333333334,
          41.66666666666667,
          75,
          0,
          58.333333333333336,
          25,
          91.66666666666666,
          46.666666666666664,
          41.66666666666667,
          33.33333333333333,
          58.333333333333336,
          25,
          41.66666666666667,
          66.66666666666666,
          16.666666666666664,
          100,
          8.333333333333332,
          25,
          78.33333333333333,
          3.3333333333333335
         ],
         "z": [
          32.5,
          123.45,
          125.6,
          327.6,
          214.9,
          486.3,
          378.5,
          289.8,
          456.2,
          334.9,
          298.6,
          312.5,
          120,
          75,
          200,
          150,
          300,
          250,
          180,
          280,
          220,
          200,
          160,
          240,
          120.5,
          120,
          300,
          250,
          350,
          200,
          400,
          300,
          450,
          250,
          350,
          200,
          300,
          250,
          72.3,
          123.6,
          246.9,
          75.2,
          120.5,
          250,
          75,
          300,
          100,
          120,
          350,
          200
         ]
        }
       ],
       "layout": {
        "scene": {
         "xaxis": {
          "title": {
           "text": "Age"
          }
         },
         "yaxis": {
          "title": {
           "text": "Annual Income"
          }
         },
         "zaxis": {
          "title": {
           "text": "Time on Site"
          }
         }
        },
        "template": {
         "data": {
          "bar": [
           {
            "error_x": {
             "color": "#2a3f5f"
            },
            "error_y": {
             "color": "#2a3f5f"
            },
            "marker": {
             "line": {
              "color": "#E5ECF6",
              "width": 0.5
             },
             "pattern": {
              "fillmode": "overlay",
              "size": 10,
              "solidity": 0.2
             }
            },
            "type": "bar"
           }
          ],
          "barpolar": [
           {
            "marker": {
             "line": {
              "color": "#E5ECF6",
              "width": 0.5
             },
             "pattern": {
              "fillmode": "overlay",
              "size": 10,
              "solidity": 0.2
             }
            },
            "type": "barpolar"
           }
          ],
          "carpet": [
           {
            "aaxis": {
             "endlinecolor": "#2a3f5f",
             "gridcolor": "white",
             "linecolor": "white",
             "minorgridcolor": "white",
             "startlinecolor": "#2a3f5f"
            },
            "baxis": {
             "endlinecolor": "#2a3f5f",
             "gridcolor": "white",
             "linecolor": "white",
             "minorgridcolor": "white",
             "startlinecolor": "#2a3f5f"
            },
            "type": "carpet"
           }
          ],
          "choropleth": [
           {
            "colorbar": {
             "outlinewidth": 0,
             "ticks": ""
            },
            "type": "choropleth"
           }
          ],
          "contour": [
           {
            "colorbar": {
             "outlinewidth": 0,
             "ticks": ""
            },
            "colorscale": [
             [
              0,
              "#0d0887"
             ],
             [
              0.1111111111111111,
              "#46039f"
             ],
             [
              0.2222222222222222,
              "#7201a8"
             ],
             [
              0.3333333333333333,
              "#9c179e"
             ],
             [
              0.4444444444444444,
              "#bd3786"
             ],
             [
              0.5555555555555556,
              "#d8576b"
             ],
             [
              0.6666666666666666,
              "#ed7953"
             ],
             [
              0.7777777777777778,
              "#fb9f3a"
             ],
             [
              0.8888888888888888,
              "#fdca26"
             ],
             [
              1,
              "#f0f921"
             ]
            ],
            "type": "contour"
           }
          ],
          "contourcarpet": [
           {
            "colorbar": {
             "outlinewidth": 0,
             "ticks": ""
            },
            "type": "contourcarpet"
           }
          ],
          "heatmap": [
           {
            "colorbar": {
             "outlinewidth": 0,
             "ticks": ""
            },
            "colorscale": [
             [
              0,
              "#0d0887"
             ],
             [
              0.1111111111111111,
              "#46039f"
             ],
             [
              0.2222222222222222,
              "#7201a8"
             ],
             [
              0.3333333333333333,
              "#9c179e"
             ],
             [
              0.4444444444444444,
              "#bd3786"
             ],
             [
              0.5555555555555556,
              "#d8576b"
             ],
             [
              0.6666666666666666,
              "#ed7953"
             ],
             [
              0.7777777777777778,
              "#fb9f3a"
             ],
             [
              0.8888888888888888,
              "#fdca26"
             ],
             [
              1,
              "#f0f921"
             ]
            ],
            "type": "heatmap"
           }
          ],
          "heatmapgl": [
           {
            "colorbar": {
             "outlinewidth": 0,
             "ticks": ""
            },
            "colorscale": [
             [
              0,
              "#0d0887"
             ],
             [
              0.1111111111111111,
              "#46039f"
             ],
             [
              0.2222222222222222,
              "#7201a8"
             ],
             [
              0.3333333333333333,
              "#9c179e"
             ],
             [
              0.4444444444444444,
              "#bd3786"
             ],
             [
              0.5555555555555556,
              "#d8576b"
             ],
             [
              0.6666666666666666,
              "#ed7953"
             ],
             [
              0.7777777777777778,
              "#fb9f3a"
             ],
             [
              0.8888888888888888,
              "#fdca26"
             ],
             [
              1,
              "#f0f921"
             ]
            ],
            "type": "heatmapgl"
           }
          ],
          "histogram": [
           {
            "marker": {
             "pattern": {
              "fillmode": "overlay",
              "size": 10,
              "solidity": 0.2
             }
            },
            "type": "histogram"
           }
          ],
          "histogram2d": [
           {
            "colorbar": {
             "outlinewidth": 0,
             "ticks": ""
            },
            "colorscale": [
             [
              0,
              "#0d0887"
             ],
             [
              0.1111111111111111,
              "#46039f"
             ],
             [
              0.2222222222222222,
              "#7201a8"
             ],
             [
              0.3333333333333333,
              "#9c179e"
             ],
             [
              0.4444444444444444,
              "#bd3786"
             ],
             [
              0.5555555555555556,
              "#d8576b"
             ],
             [
              0.6666666666666666,
              "#ed7953"
             ],
             [
              0.7777777777777778,
              "#fb9f3a"
             ],
             [
              0.8888888888888888,
              "#fdca26"
             ],
             [
              1,
              "#f0f921"
             ]
            ],
            "type": "histogram2d"
           }
          ],
          "histogram2dcontour": [
           {
            "colorbar": {
             "outlinewidth": 0,
             "ticks": ""
            },
            "colorscale": [
             [
              0,
              "#0d0887"
             ],
             [
              0.1111111111111111,
              "#46039f"
             ],
             [
              0.2222222222222222,
              "#7201a8"
             ],
             [
              0.3333333333333333,
              "#9c179e"
             ],
             [
              0.4444444444444444,
              "#bd3786"
             ],
             [
              0.5555555555555556,
              "#d8576b"
             ],
             [
              0.6666666666666666,
              "#ed7953"
             ],
             [
              0.7777777777777778,
              "#fb9f3a"
             ],
             [
              0.8888888888888888,
              "#fdca26"
             ],
             [
              1,
              "#f0f921"
             ]
            ],
            "type": "histogram2dcontour"
           }
          ],
          "mesh3d": [
           {
            "colorbar": {
             "outlinewidth": 0,
             "ticks": ""
            },
            "type": "mesh3d"
           }
          ],
          "parcoords": [
           {
            "line": {
             "colorbar": {
              "outlinewidth": 0,
              "ticks": ""
             }
            },
            "type": "parcoords"
           }
          ],
          "pie": [
           {
            "automargin": true,
            "type": "pie"
           }
          ],
          "scatter": [
           {
            "fillpattern": {
             "fillmode": "overlay",
             "size": 10,
             "solidity": 0.2
            },
            "type": "scatter"
           }
          ],
          "scatter3d": [
           {
            "line": {
             "colorbar": {
              "outlinewidth": 0,
              "ticks": ""
             }
            },
            "marker": {
             "colorbar": {
              "outlinewidth": 0,
              "ticks": ""
             }
            },
            "type": "scatter3d"
           }
          ],
          "scattercarpet": [
           {
            "marker": {
             "colorbar": {
              "outlinewidth": 0,
              "ticks": ""
             }
            },
            "type": "scattercarpet"
           }
          ],
          "scattergeo": [
           {
            "marker": {
             "colorbar": {
              "outlinewidth": 0,
              "ticks": ""
             }
            },
            "type": "scattergeo"
           }
          ],
          "scattergl": [
           {
            "marker": {
             "colorbar": {
              "outlinewidth": 0,
              "ticks": ""
             }
            },
            "type": "scattergl"
           }
          ],
          "scattermapbox": [
           {
            "marker": {
             "colorbar": {
              "outlinewidth": 0,
              "ticks": ""
             }
            },
            "type": "scattermapbox"
           }
          ],
          "scatterpolar": [
           {
            "marker": {
             "colorbar": {
              "outlinewidth": 0,
              "ticks": ""
             }
            },
            "type": "scatterpolar"
           }
          ],
          "scatterpolargl": [
           {
            "marker": {
             "colorbar": {
              "outlinewidth": 0,
              "ticks": ""
             }
            },
            "type": "scatterpolargl"
           }
          ],
          "scatterternary": [
           {
            "marker": {
             "colorbar": {
              "outlinewidth": 0,
              "ticks": ""
             }
            },
            "type": "scatterternary"
           }
          ],
          "surface": [
           {
            "colorbar": {
             "outlinewidth": 0,
             "ticks": ""
            },
            "colorscale": [
             [
              0,
              "#0d0887"
             ],
             [
              0.1111111111111111,
              "#46039f"
             ],
             [
              0.2222222222222222,
              "#7201a8"
             ],
             [
              0.3333333333333333,
              "#9c179e"
             ],
             [
              0.4444444444444444,
              "#bd3786"
             ],
             [
              0.5555555555555556,
              "#d8576b"
             ],
             [
              0.6666666666666666,
              "#ed7953"
             ],
             [
              0.7777777777777778,
              "#fb9f3a"
             ],
             [
              0.8888888888888888,
              "#fdca26"
             ],
             [
              1,
              "#f0f921"
             ]
            ],
            "type": "surface"
           }
          ],
          "table": [
           {
            "cells": {
             "fill": {
              "color": "#EBF0F8"
             },
             "line": {
              "color": "white"
             }
            },
            "header": {
             "fill": {
              "color": "#C8D4E3"
             },
             "line": {
              "color": "white"
             }
            },
            "type": "table"
           }
          ]
         },
         "layout": {
          "annotationdefaults": {
           "arrowcolor": "#2a3f5f",
           "arrowhead": 0,
           "arrowwidth": 1
          },
          "autotypenumbers": "strict",
          "coloraxis": {
           "colorbar": {
            "outlinewidth": 0,
            "ticks": ""
           }
          },
          "colorscale": {
           "diverging": [
            [
             0,
             "#8e0152"
            ],
            [
             0.1,
             "#c51b7d"
            ],
            [
             0.2,
             "#de77ae"
            ],
            [
             0.3,
             "#f1b6da"
            ],
            [
             0.4,
             "#fde0ef"
            ],
            [
             0.5,
             "#f7f7f7"
            ],
            [
             0.6,
             "#e6f5d0"
            ],
            [
             0.7,
             "#b8e186"
            ],
            [
             0.8,
             "#7fbc41"
            ],
            [
             0.9,
             "#4d9221"
            ],
            [
             1,
             "#276419"
            ]
           ],
           "sequential": [
            [
             0,
             "#0d0887"
            ],
            [
             0.1111111111111111,
             "#46039f"
            ],
            [
             0.2222222222222222,
             "#7201a8"
            ],
            [
             0.3333333333333333,
             "#9c179e"
            ],
            [
             0.4444444444444444,
             "#bd3786"
            ],
            [
             0.5555555555555556,
             "#d8576b"
            ],
            [
             0.6666666666666666,
             "#ed7953"
            ],
            [
             0.7777777777777778,
             "#fb9f3a"
            ],
            [
             0.8888888888888888,
             "#fdca26"
            ],
            [
             1,
             "#f0f921"
            ]
           ],
           "sequentialminus": [
            [
             0,
             "#0d0887"
            ],
            [
             0.1111111111111111,
             "#46039f"
            ],
            [
             0.2222222222222222,
             "#7201a8"
            ],
            [
             0.3333333333333333,
             "#9c179e"
            ],
            [
             0.4444444444444444,
             "#bd3786"
            ],
            [
             0.5555555555555556,
             "#d8576b"
            ],
            [
             0.6666666666666666,
             "#ed7953"
            ],
            [
             0.7777777777777778,
             "#fb9f3a"
            ],
            [
             0.8888888888888888,
             "#fdca26"
            ],
            [
             1,
             "#f0f921"
            ]
           ]
          },
          "colorway": [
           "#636efa",
           "#EF553B",
           "#00cc96",
           "#ab63fa",
           "#FFA15A",
           "#19d3f3",
           "#FF6692",
           "#B6E880",
           "#FF97FF",
           "#FECB52"
          ],
          "font": {
           "color": "#2a3f5f"
          },
          "geo": {
           "bgcolor": "white",
           "lakecolor": "white",
           "landcolor": "#E5ECF6",
           "showlakes": true,
           "showland": true,
           "subunitcolor": "white"
          },
          "hoverlabel": {
           "align": "left"
          },
          "hovermode": "closest",
          "mapbox": {
           "style": "light"
          },
          "paper_bgcolor": "white",
          "plot_bgcolor": "#E5ECF6",
          "polar": {
           "angularaxis": {
            "gridcolor": "white",
            "linecolor": "white",
            "ticks": ""
           },
           "bgcolor": "#E5ECF6",
           "radialaxis": {
            "gridcolor": "white",
            "linecolor": "white",
            "ticks": ""
           }
          },
          "scene": {
           "xaxis": {
            "backgroundcolor": "#E5ECF6",
            "gridcolor": "white",
            "gridwidth": 2,
            "linecolor": "white",
            "showbackground": true,
            "ticks": "",
            "zerolinecolor": "white"
           },
           "yaxis": {
            "backgroundcolor": "#E5ECF6",
            "gridcolor": "white",
            "gridwidth": 2,
            "linecolor": "white",
            "showbackground": true,
            "ticks": "",
            "zerolinecolor": "white"
           },
           "zaxis": {
            "backgroundcolor": "#E5ECF6",
            "gridcolor": "white",
            "gridwidth": 2,
            "linecolor": "white",
            "showbackground": true,
            "ticks": "",
            "zerolinecolor": "white"
           }
          },
          "shapedefaults": {
           "line": {
            "color": "#2a3f5f"
           }
          },
          "ternary": {
           "aaxis": {
            "gridcolor": "white",
            "linecolor": "white",
            "ticks": ""
           },
           "baxis": {
            "gridcolor": "white",
            "linecolor": "white",
            "ticks": ""
           },
           "bgcolor": "#E5ECF6",
           "caxis": {
            "gridcolor": "white",
            "linecolor": "white",
            "ticks": ""
           }
          },
          "title": {
           "x": 0.05
          },
          "xaxis": {
           "automargin": true,
           "gridcolor": "white",
           "linecolor": "white",
           "ticks": "",
           "title": {
            "standoff": 15
           },
           "zerolinecolor": "white",
           "zerolinewidth": 2
          },
          "yaxis": {
           "automargin": true,
           "gridcolor": "white",
           "linecolor": "white",
           "ticks": "",
           "title": {
            "standoff": 15
           },
           "zerolinecolor": "white",
           "zerolinewidth": 2
          }
         }
        }
       }
      }
     },
     "metadata": {},
     "output_type": "display_data"
    },
    {
     "data": {
      "text/html": [
       "<div>\n",
       "<style scoped>\n",
       "    .dataframe tbody tr th:only-of-type {\n",
       "        vertical-align: middle;\n",
       "    }\n",
       "\n",
       "    .dataframe tbody tr th {\n",
       "        vertical-align: top;\n",
       "    }\n",
       "\n",
       "    .dataframe thead th {\n",
       "        text-align: right;\n",
       "    }\n",
       "</style>\n",
       "<table border=\"1\" class=\"dataframe\">\n",
       "  <thead>\n",
       "    <tr style=\"text-align: right;\">\n",
       "      <th></th>\n",
       "      <th>Age</th>\n",
       "      <th>Annual Income</th>\n",
       "      <th>Time on Site</th>\n",
       "    </tr>\n",
       "  </thead>\n",
       "  <tbody>\n",
       "    <tr>\n",
       "      <th>0</th>\n",
       "      <td>25</td>\n",
       "      <td>45000</td>\n",
       "      <td>32.50</td>\n",
       "    </tr>\n",
       "    <tr>\n",
       "      <th>1</th>\n",
       "      <td>28</td>\n",
       "      <td>52000</td>\n",
       "      <td>123.45</td>\n",
       "    </tr>\n",
       "    <tr>\n",
       "      <th>2</th>\n",
       "      <td>28</td>\n",
       "      <td>65000</td>\n",
       "      <td>125.60</td>\n",
       "    </tr>\n",
       "    <tr>\n",
       "      <th>3</th>\n",
       "      <td>45</td>\n",
       "      <td>70000</td>\n",
       "      <td>327.60</td>\n",
       "    </tr>\n",
       "    <tr>\n",
       "      <th>4</th>\n",
       "      <td>34</td>\n",
       "      <td>45000</td>\n",
       "      <td>214.90</td>\n",
       "    </tr>\n",
       "    <tr>\n",
       "      <th>5</th>\n",
       "      <td>56</td>\n",
       "      <td>90000</td>\n",
       "      <td>486.30</td>\n",
       "    </tr>\n",
       "    <tr>\n",
       "      <th>6</th>\n",
       "      <td>29</td>\n",
       "      <td>60000</td>\n",
       "      <td>378.50</td>\n",
       "    </tr>\n",
       "    <tr>\n",
       "      <th>7</th>\n",
       "      <td>42</td>\n",
       "      <td>75000</td>\n",
       "      <td>289.80</td>\n",
       "    </tr>\n",
       "    <tr>\n",
       "      <th>8</th>\n",
       "      <td>51</td>\n",
       "      <td>85000</td>\n",
       "      <td>456.20</td>\n",
       "    </tr>\n",
       "    <tr>\n",
       "      <th>9</th>\n",
       "      <td>36</td>\n",
       "      <td>55000</td>\n",
       "      <td>334.90</td>\n",
       "    </tr>\n",
       "    <tr>\n",
       "      <th>10</th>\n",
       "      <td>48</td>\n",
       "      <td>80000</td>\n",
       "      <td>298.60</td>\n",
       "    </tr>\n",
       "    <tr>\n",
       "      <th>11</th>\n",
       "      <td>25</td>\n",
       "      <td>40000</td>\n",
       "      <td>312.50</td>\n",
       "    </tr>\n",
       "    <tr>\n",
       "      <th>12</th>\n",
       "      <td>45</td>\n",
       "      <td>75000</td>\n",
       "      <td>120.00</td>\n",
       "    </tr>\n",
       "    <tr>\n",
       "      <th>13</th>\n",
       "      <td>32</td>\n",
       "      <td>50000</td>\n",
       "      <td>75.00</td>\n",
       "    </tr>\n",
       "    <tr>\n",
       "      <th>14</th>\n",
       "      <td>60</td>\n",
       "      <td>80000</td>\n",
       "      <td>200.00</td>\n",
       "    </tr>\n",
       "    <tr>\n",
       "      <th>15</th>\n",
       "      <td>28</td>\n",
       "      <td>45000</td>\n",
       "      <td>150.00</td>\n",
       "    </tr>\n",
       "    <tr>\n",
       "      <th>16</th>\n",
       "      <td>55</td>\n",
       "      <td>90000</td>\n",
       "      <td>300.00</td>\n",
       "    </tr>\n",
       "    <tr>\n",
       "      <th>17</th>\n",
       "      <td>38</td>\n",
       "      <td>65000</td>\n",
       "      <td>250.00</td>\n",
       "    </tr>\n",
       "    <tr>\n",
       "      <th>18</th>\n",
       "      <td>42</td>\n",
       "      <td>70000</td>\n",
       "      <td>180.00</td>\n",
       "    </tr>\n",
       "    <tr>\n",
       "      <th>19</th>\n",
       "      <td>50</td>\n",
       "      <td>85000</td>\n",
       "      <td>280.00</td>\n",
       "    </tr>\n",
       "    <tr>\n",
       "      <th>20</th>\n",
       "      <td>35</td>\n",
       "      <td>55000</td>\n",
       "      <td>220.00</td>\n",
       "    </tr>\n",
       "    <tr>\n",
       "      <th>21</th>\n",
       "      <td>48</td>\n",
       "      <td>75000</td>\n",
       "      <td>200.00</td>\n",
       "    </tr>\n",
       "    <tr>\n",
       "      <th>22</th>\n",
       "      <td>30</td>\n",
       "      <td>40000</td>\n",
       "      <td>160.00</td>\n",
       "    </tr>\n",
       "    <tr>\n",
       "      <th>23</th>\n",
       "      <td>65</td>\n",
       "      <td>95000</td>\n",
       "      <td>240.00</td>\n",
       "    </tr>\n",
       "    <tr>\n",
       "      <th>24</th>\n",
       "      <td>24</td>\n",
       "      <td>45000</td>\n",
       "      <td>120.50</td>\n",
       "    </tr>\n",
       "    <tr>\n",
       "      <th>25</th>\n",
       "      <td>35</td>\n",
       "      <td>50000</td>\n",
       "      <td>120.00</td>\n",
       "    </tr>\n",
       "    <tr>\n",
       "      <th>26</th>\n",
       "      <td>45</td>\n",
       "      <td>80000</td>\n",
       "      <td>300.00</td>\n",
       "    </tr>\n",
       "    <tr>\n",
       "      <th>27</th>\n",
       "      <td>28</td>\n",
       "      <td>60000</td>\n",
       "      <td>250.00</td>\n",
       "    </tr>\n",
       "    <tr>\n",
       "      <th>28</th>\n",
       "      <td>52</td>\n",
       "      <td>70000</td>\n",
       "      <td>350.00</td>\n",
       "    </tr>\n",
       "    <tr>\n",
       "      <th>29</th>\n",
       "      <td>31</td>\n",
       "      <td>45000</td>\n",
       "      <td>200.00</td>\n",
       "    </tr>\n",
       "    <tr>\n",
       "      <th>30</th>\n",
       "      <td>48</td>\n",
       "      <td>90000</td>\n",
       "      <td>400.00</td>\n",
       "    </tr>\n",
       "    <tr>\n",
       "      <th>31</th>\n",
       "      <td>60</td>\n",
       "      <td>65000</td>\n",
       "      <td>300.00</td>\n",
       "    </tr>\n",
       "    <tr>\n",
       "      <th>32</th>\n",
       "      <td>55</td>\n",
       "      <td>85000</td>\n",
       "      <td>450.00</td>\n",
       "    </tr>\n",
       "    <tr>\n",
       "      <th>33</th>\n",
       "      <td>29</td>\n",
       "      <td>40000</td>\n",
       "      <td>250.00</td>\n",
       "    </tr>\n",
       "    <tr>\n",
       "      <th>34</th>\n",
       "      <td>58</td>\n",
       "      <td>75000</td>\n",
       "      <td>350.00</td>\n",
       "    </tr>\n",
       "    <tr>\n",
       "      <th>35</th>\n",
       "      <td>36</td>\n",
       "      <td>55000</td>\n",
       "      <td>200.00</td>\n",
       "    </tr>\n",
       "    <tr>\n",
       "      <th>36</th>\n",
       "      <td>42</td>\n",
       "      <td>95000</td>\n",
       "      <td>300.00</td>\n",
       "    </tr>\n",
       "    <tr>\n",
       "      <th>37</th>\n",
       "      <td>50</td>\n",
       "      <td>68000</td>\n",
       "      <td>250.00</td>\n",
       "    </tr>\n",
       "    <tr>\n",
       "      <th>38</th>\n",
       "      <td>32</td>\n",
       "      <td>65000</td>\n",
       "      <td>72.30</td>\n",
       "    </tr>\n",
       "    <tr>\n",
       "      <th>39</th>\n",
       "      <td>35</td>\n",
       "      <td>60000</td>\n",
       "      <td>123.60</td>\n",
       "    </tr>\n",
       "    <tr>\n",
       "      <th>40</th>\n",
       "      <td>42</td>\n",
       "      <td>75000</td>\n",
       "      <td>246.90</td>\n",
       "    </tr>\n",
       "    <tr>\n",
       "      <th>41</th>\n",
       "      <td>32</td>\n",
       "      <td>55000</td>\n",
       "      <td>75.20</td>\n",
       "    </tr>\n",
       "    <tr>\n",
       "      <th>42</th>\n",
       "      <td>28</td>\n",
       "      <td>65000</td>\n",
       "      <td>120.50</td>\n",
       "    </tr>\n",
       "    <tr>\n",
       "      <th>43</th>\n",
       "      <td>42</td>\n",
       "      <td>80000</td>\n",
       "      <td>250.00</td>\n",
       "    </tr>\n",
       "    <tr>\n",
       "      <th>44</th>\n",
       "      <td>35</td>\n",
       "      <td>50000</td>\n",
       "      <td>75.00</td>\n",
       "    </tr>\n",
       "    <tr>\n",
       "      <th>45</th>\n",
       "      <td>52</td>\n",
       "      <td>100000</td>\n",
       "      <td>300.00</td>\n",
       "    </tr>\n",
       "    <tr>\n",
       "      <th>46</th>\n",
       "      <td>24</td>\n",
       "      <td>45000</td>\n",
       "      <td>100.00</td>\n",
       "    </tr>\n",
       "    <tr>\n",
       "      <th>47</th>\n",
       "      <td>34</td>\n",
       "      <td>55000</td>\n",
       "      <td>120.00</td>\n",
       "    </tr>\n",
       "    <tr>\n",
       "      <th>48</th>\n",
       "      <td>45</td>\n",
       "      <td>87000</td>\n",
       "      <td>350.00</td>\n",
       "    </tr>\n",
       "    <tr>\n",
       "      <th>49</th>\n",
       "      <td>29</td>\n",
       "      <td>42000</td>\n",
       "      <td>200.00</td>\n",
       "    </tr>\n",
       "  </tbody>\n",
       "</table>\n",
       "</div>"
      ],
      "text/plain": [
       "    Age  Annual Income  Time on Site\n",
       "0    25          45000         32.50\n",
       "1    28          52000        123.45\n",
       "2    28          65000        125.60\n",
       "3    45          70000        327.60\n",
       "4    34          45000        214.90\n",
       "5    56          90000        486.30\n",
       "6    29          60000        378.50\n",
       "7    42          75000        289.80\n",
       "8    51          85000        456.20\n",
       "9    36          55000        334.90\n",
       "10   48          80000        298.60\n",
       "11   25          40000        312.50\n",
       "12   45          75000        120.00\n",
       "13   32          50000         75.00\n",
       "14   60          80000        200.00\n",
       "15   28          45000        150.00\n",
       "16   55          90000        300.00\n",
       "17   38          65000        250.00\n",
       "18   42          70000        180.00\n",
       "19   50          85000        280.00\n",
       "20   35          55000        220.00\n",
       "21   48          75000        200.00\n",
       "22   30          40000        160.00\n",
       "23   65          95000        240.00\n",
       "24   24          45000        120.50\n",
       "25   35          50000        120.00\n",
       "26   45          80000        300.00\n",
       "27   28          60000        250.00\n",
       "28   52          70000        350.00\n",
       "29   31          45000        200.00\n",
       "30   48          90000        400.00\n",
       "31   60          65000        300.00\n",
       "32   55          85000        450.00\n",
       "33   29          40000        250.00\n",
       "34   58          75000        350.00\n",
       "35   36          55000        200.00\n",
       "36   42          95000        300.00\n",
       "37   50          68000        250.00\n",
       "38   32          65000         72.30\n",
       "39   35          60000        123.60\n",
       "40   42          75000        246.90\n",
       "41   32          55000         75.20\n",
       "42   28          65000        120.50\n",
       "43   42          80000        250.00\n",
       "44   35          50000         75.00\n",
       "45   52         100000        300.00\n",
       "46   24          45000        100.00\n",
       "47   34          55000        120.00\n",
       "48   45          87000        350.00\n",
       "49   29          42000        200.00"
      ]
     },
     "execution_count": 13,
     "metadata": {},
     "output_type": "execute_result"
    }
   ],
   "source": [
    "fitur = [\"Age\",\"Annual Income\",\"Time on Site\"]\n",
    "fig = go.Figure(data=[go.Scatter3d(\n",
    "    x=data['Age'],\n",
    "    y=data['Pendapatan_Norm'],\n",
    "    z=data['Time on Site'],\n",
    "    mode='markers'\n",
    ")])\n",
    "\n",
    "fig.update_layout(\n",
    "    scene=dict(\n",
    "        xaxis_title='Age',\n",
    "        yaxis_title='Annual Income',\n",
    "        zaxis_title='Time on Site'\n",
    "    )\n",
    ")\n",
    "\n",
    "fig.show()\n",
    "# Selanjutnya, kita hanya akan menggunakan data dengan kolom_2\n",
    "\n",
    "data_train = data[fitur]\n",
    "data_train"
   ]
  },
  {
   "cell_type": "markdown",
   "metadata": {},
   "source": [
    "K-Means Algorithm"
   ]
  },
  {
   "cell_type": "code",
   "execution_count": 14,
   "metadata": {},
   "outputs": [
    {
     "name": "stdout",
     "output_type": "stream",
     "text": [
      "wcss score for n_cluster = 2 is [3706427017.0088487]\n",
      "silhoutte score for n_clusters = 2 is 0.6093933492267868\n",
      "wcss score for n_cluster = 3 is [3706427017.0088487, 1579515148.3019638]\n",
      "silhoutte score for n_clusters = 3 is 0.595170404424415\n",
      "wcss score for n_cluster = 4 is [3706427017.0088487, 1579515148.3019638, 994806753.8105774]\n",
      "silhoutte score for n_clusters = 4 is 0.5891003924798821\n",
      "wcss score for n_cluster = 5 is [3706427017.0088487, 1579515148.3019638, 994806753.8105774, 547344197.7648333]\n",
      "silhoutte score for n_clusters = 5 is 0.6130111634050656\n",
      "wcss score for n_cluster = 6 is [3706427017.0088487, 1579515148.3019638, 994806753.8105774, 547344197.7648333, 361660357.2166389]\n",
      "silhoutte score for n_clusters = 6 is 0.6086304875968803\n",
      "wcss score for n_cluster = 7 is [3706427017.0088487, 1579515148.3019638, 994806753.8105774, 547344197.7648333, 361660357.2166389, 257847772.85241267]\n",
      "silhoutte score for n_clusters = 7 is 0.6409029864022255\n",
      "wcss score for n_cluster = 8 is [3706427017.0088487, 1579515148.3019638, 994806753.8105774, 547344197.7648333, 361660357.2166389, 257847772.85241267, 204153550.0042738]\n",
      "silhoutte score for n_clusters = 8 is 0.6928943177732815\n",
      "wcss score for n_cluster = 9 is [3706427017.0088487, 1579515148.3019638, 994806753.8105774, 547344197.7648333, 361660357.2166389, 257847772.85241267, 204153550.0042738, 155532203.4394405]\n",
      "silhoutte score for n_clusters = 9 is 0.7083183599970471\n"
     ]
    }
   ],
   "source": [
    "# Sekarang kita coba clustering data menggunakan KMeans\n",
    "# Tapi sebelum itu, kita tentukan nilai K yang paling optimum dengan Elbow Method dan Silhouette Score\n",
    "wcss = []\n",
    "scores = []\n",
    "for i in range(2, 10):\n",
    "    km = KMeans(n_clusters=i, init='k-means++', max_iter=300, n_init=10, random_state=42)\n",
    "    km.fit(data_train)\n",
    "    wcss.append(km.inertia_)\n",
    "\n",
    "    labels = km.labels_\n",
    "    silhouette_avg = silhouette_score(data_train, labels)\n",
    "    scores.append(silhouette_avg)\n",
    "    print('wcss score for n_cluster = ' + str(i) + ' is ' + str(wcss))\n",
    "    print('silhoutte score for n_clusters = ' + str(i) + ' is ' + str(silhouette_avg))"
   ]
  },
  {
   "cell_type": "code",
   "execution_count": 15,
   "metadata": {},
   "outputs": [
    {
     "data": {
      "image/png": "[encoded data removed]",
      "text/plain": [
       "<Figure size 640x480 with 1 Axes>"
      ]
     },
     "metadata": {},
     "output_type": "display_data"
    }
   ],
   "source": [
    "# Visualisasi Elbow Method\n",
    "plt.plot(range(2, 10), wcss)\n",
    "plt.title('The Elbow Method', fontsize = 20)\n",
    "plt.xlabel('No. of Clusters')\n",
    "plt.ylabel('WCSS')\n",
    "plt.show()"
   ]
  },
  {
   "cell_type": "code",
   "execution_count": 16,
   "metadata": {},
   "outputs": [
    {
     "data": {
      "image/png": "[encoded data removed]",
      "text/plain": [
       "<Figure size 640x480 with 1 Axes>"
      ]
     },
     "metadata": {},
     "output_type": "display_data"
    }
   ],
   "source": [
    "# Visualisasi Silhouette Score\n",
    "plt.plot(range(2, 10), scores)\n",
    "plt.title('Silhouette Score', fontsize = 20)\n",
    "plt.xlabel('No. of Clusters')\n",
    "plt.ylabel('Score')\n",
    "plt.show()"
   ]
  },
  {
   "cell_type": "code",
   "execution_count": 17,
   "metadata": {},
   "outputs": [],
   "source": [
    "# Dari Elbow Method dan Sillhouette Score, kita akan menggunakan K = 4\n",
    "kmeansmodel = KMeans(n_clusters = 4, init = 'k-means++', max_iter = 300, n_init = 10, random_state = 42)\n",
    "y_kmeans= kmeansmodel.fit_predict(data_train)"
   ]
  },
  {
   "cell_type": "code",
   "execution_count": 18,
   "metadata": {},
   "outputs": [
    {
     "data": {
      "application/vnd.plotly.v1+json": {
       "config": {
        "plotlyServerURL": "https://plot.ly"
       },
       "data": [
        {
         "marker": {
          "color": "red",
          "opacity": 0.8,
          "size": 8
         },
         "mode": "markers",
         "name": "Cluster 1",
         "type": "scatter3d",
         "x": [
          56,
          51,
          48,
          60,
          55,
          50,
          65,
          45,
          48,
          55,
          42,
          42,
          52,
          45
         ],
         "y": [
          90000,
          85000,
          80000,
          80000,
          90000,
          85000,
          95000,
          80000,
          90000,
          85000,
          95000,
          80000,
          100000,
          87000
         ],
         "z": [
          486.3,
          456.2,
          298.6,
          200,
          300,
          280,
          240,
          300,
          400,
          450,
          300,
          250,
          300,
          350
         ]
        },
        {
         "marker": {
          "color": "blue",
          "opacity": 0.8,
          "size": 8
         },
         "mode": "markers",
         "name": "Cluster 2",
         "type": "scatter3d",
         "x": [
          28,
          29,
          36,
          32,
          35,
          35,
          28,
          36,
          35,
          32,
          35,
          34
         ],
         "y": [
          52000,
          60000,
          55000,
          50000,
          55000,
          50000,
          60000,
          55000,
          60000,
          55000,
          50000,
          55000
         ],
         "z": [
          123.45,
          378.5,
          334.9,
          75,
          220,
          120,
          250,
          200,
          123.6,
          75.2,
          75,
          120
         ]
        },
        {
         "marker": {
          "color": "green",
          "opacity": 0.8,
          "size": 8
         },
         "mode": "markers",
         "name": "Cluster 3",
         "type": "scatter3d",
         "x": [
          28,
          45,
          42,
          45,
          38,
          42,
          48,
          52,
          60,
          58,
          50,
          32,
          42,
          28
         ],
         "y": [
          65000,
          70000,
          75000,
          75000,
          65000,
          70000,
          75000,
          70000,
          65000,
          75000,
          68000,
          65000,
          75000,
          65000
         ],
         "z": [
          125.6,
          327.6,
          289.8,
          120,
          250,
          180,
          200,
          350,
          300,
          350,
          250,
          72.3,
          246.9,
          120.5
         ]
        },
        {
         "marker": {
          "color": "purple",
          "opacity": 0.8,
          "size": 8
         },
         "mode": "markers",
         "name": "Cluster 4",
         "type": "scatter3d",
         "x": [
          25,
          34,
          25,
          28,
          30,
          24,
          31,
          29,
          24,
          29
         ],
         "y": [
          45000,
          45000,
          40000,
          45000,
          40000,
          45000,
          45000,
          40000,
          45000,
          42000
         ],
         "z": [
          32.5,
          214.9,
          312.5,
          150,
          160,
          120.5,
          200,
          250,
          100,
          200
         ]
        },
        {
         "marker": {
          "color": "black",
          "opacity": 1,
          "size": 12,
          "symbol": "diamond"
         },
         "mode": "markers",
         "name": "Centroids",
         "type": "scatter3d",
         "x": [
          50.99999999999999,
          32.916666666666664,
          43.57142857142857,
          27.9
         ],
         "y": [
          87285.71428571429,
          54750,
          69857.14285714286,
          43200
         ],
         "z": [
          329.36428571428576,
          174.6375,
          227.3357142857143,
          174.04000000000002
         ]
        }
       ],
       "layout": {
        "scene": {
         "xaxis": {
          "title": {
           "text": "Age"
          }
         },
         "yaxis": {
          "title": {
           "text": "Annual Income"
          }
         },
         "zaxis": {
          "title": {
           "text": "Time on Site"
          }
         }
        },
        "showlegend": true,
        "template": {
         "data": {
          "bar": [
           {
            "error_x": {
             "color": "#2a3f5f"
            },
            "error_y": {
             "color": "#2a3f5f"
            },
            "marker": {
             "line": {
              "color": "#E5ECF6",
              "width": 0.5
             },
             "pattern": {
              "fillmode": "overlay",
              "size": 10,
              "solidity": 0.2
             }
            },
            "type": "bar"
           }
          ],
          "barpolar": [
           {
            "marker": {
             "line": {
              "color": "#E5ECF6",
              "width": 0.5
             },
             "pattern": {
              "fillmode": "overlay",
              "size": 10,
              "solidity": 0.2
             }
            },
            "type": "barpolar"
           }
          ],
          "carpet": [
           {
            "aaxis": {
             "endlinecolor": "#2a3f5f",
             "gridcolor": "white",
             "linecolor": "white",
             "minorgridcolor": "white",
             "startlinecolor": "#2a3f5f"
            },
            "baxis": {
             "endlinecolor": "#2a3f5f",
             "gridcolor": "white",
             "linecolor": "white",
             "minorgridcolor": "white",
             "startlinecolor": "#2a3f5f"
            },
            "type": "carpet"
           }
          ],
          "choropleth": [
           {
            "colorbar": {
             "outlinewidth": 0,
             "ticks": ""
            },
            "type": "choropleth"
           }
          ],
          "contour": [
           {
            "colorbar": {
             "outlinewidth": 0,
             "ticks": ""
            },
            "colorscale": [
             [
              0,
              "#0d0887"
             ],
             [
              0.1111111111111111,
              "#46039f"
             ],
             [
              0.2222222222222222,
              "#7201a8"
             ],
             [
              0.3333333333333333,
              "#9c179e"
             ],
             [
              0.4444444444444444,
              "#bd3786"
             ],
             [
              0.5555555555555556,
              "#d8576b"
             ],
             [
              0.6666666666666666,
              "#ed7953"
             ],
             [
              0.7777777777777778,
              "#fb9f3a"
             ],
             [
              0.8888888888888888,
              "#fdca26"
             ],
             [
              1,
              "#f0f921"
             ]
            ],
            "type": "contour"
           }
          ],
          "contourcarpet": [
           {
            "colorbar": {
             "outlinewidth": 0,
             "ticks": ""
            },
            "type": "contourcarpet"
           }
          ],
          "heatmap": [
           {
            "colorbar": {
             "outlinewidth": 0,
             "ticks": ""
            },
            "colorscale": [
             [
              0,
              "#0d0887"
             ],
             [
              0.1111111111111111,
              "#46039f"
             ],
             [
              0.2222222222222222,
              "#7201a8"
             ],
             [
              0.3333333333333333,
              "#9c179e"
             ],
             [
              0.4444444444444444,
              "#bd3786"
             ],
             [
              0.5555555555555556,
              "#d8576b"
             ],
             [
              0.6666666666666666,
              "#ed7953"
             ],
             [
              0.7777777777777778,
              "#fb9f3a"
             ],
             [
              0.8888888888888888,
              "#fdca26"
             ],
             [
              1,
              "#f0f921"
             ]
            ],
            "type": "heatmap"
           }
          ],
          "heatmapgl": [
           {
            "colorbar": {
             "outlinewidth": 0,
             "ticks": ""
            },
            "colorscale": [
             [
              0,
              "#0d0887"
             ],
             [
              0.1111111111111111,
              "#46039f"
             ],
             [
              0.2222222222222222,
              "#7201a8"
             ],
             [
              0.3333333333333333,
              "#9c179e"
             ],
             [
              0.4444444444444444,
              "#bd3786"
             ],
             [
              0.5555555555555556,
              "#d8576b"
             ],
             [
              0.6666666666666666,
              "#ed7953"
             ],
             [
              0.7777777777777778,
              "#fb9f3a"
             ],
             [
              0.8888888888888888,
              "#fdca26"
             ],
             [
              1,
              "#f0f921"
             ]
            ],
            "type": "heatmapgl"
           }
          ],
          "histogram": [
           {
            "marker": {
             "pattern": {
              "fillmode": "overlay",
              "size": 10,
              "solidity": 0.2
             }
            },
            "type": "histogram"
           }
          ],
          "histogram2d": [
           {
            "colorbar": {
             "outlinewidth": 0,
             "ticks": ""
            },
            "colorscale": [
             [
              0,
              "#0d0887"
             ],
             [
              0.1111111111111111,
              "#46039f"
             ],
             [
              0.2222222222222222,
              "#7201a8"
             ],
             [
              0.3333333333333333,
              "#9c179e"
             ],
             [
              0.4444444444444444,
              "#bd3786"
             ],
             [
              0.5555555555555556,
              "#d8576b"
             ],
             [
              0.6666666666666666,
              "#ed7953"
             ],
             [
              0.7777777777777778,
              "#fb9f3a"
             ],
             [
              0.8888888888888888,
              "#fdca26"
             ],
             [
              1,
              "#f0f921"
             ]
            ],
            "type": "histogram2d"
           }
          ],
          "histogram2dcontour": [
           {
            "colorbar": {
             "outlinewidth": 0,
             "ticks": ""
            },
            "colorscale": [
             [
              0,
              "#0d0887"
             ],
             [
              0.1111111111111111,
              "#46039f"
             ],
             [
              0.2222222222222222,
              "#7201a8"
             ],
             [
              0.3333333333333333,
              "#9c179e"
             ],
             [
              0.4444444444444444,
              "#bd3786"
             ],
             [
              0.5555555555555556,
              "#d8576b"
             ],
             [
              0.6666666666666666,
              "#ed7953"
             ],
             [
              0.7777777777777778,
              "#fb9f3a"
             ],
             [
              0.8888888888888888,
              "#fdca26"
             ],
             [
              1,
              "#f0f921"
             ]
            ],
            "type": "histogram2dcontour"
           }
          ],
          "mesh3d": [
           {
            "colorbar": {
             "outlinewidth": 0,
             "ticks": ""
            },
            "type": "mesh3d"
           }
          ],
          "parcoords": [
           {
            "line": {
             "colorbar": {
              "outlinewidth": 0,
              "ticks": ""
             }
            },
            "type": "parcoords"
           }
          ],
          "pie": [
           {
            "automargin": true,
            "type": "pie"
           }
          ],
          "scatter": [
           {
            "fillpattern": {
             "fillmode": "overlay",
             "size": 10,
             "solidity": 0.2
            },
            "type": "scatter"
           }
          ],
          "scatter3d": [
           {
            "line": {
             "colorbar": {
              "outlinewidth": 0,
              "ticks": ""
             }
            },
            "marker": {
             "colorbar": {
              "outlinewidth": 0,
              "ticks": ""
             }
            },
            "type": "scatter3d"
           }
          ],
          "scattercarpet": [
           {
            "marker": {
             "colorbar": {
              "outlinewidth": 0,
              "ticks": ""
             }
            },
            "type": "scattercarpet"
           }
          ],
          "scattergeo": [
           {
            "marker": {
             "colorbar": {
              "outlinewidth": 0,
              "ticks": ""
             }
            },
            "type": "scattergeo"
           }
          ],
          "scattergl": [
           {
            "marker": {
             "colorbar": {
              "outlinewidth": 0,
              "ticks": ""
             }
            },
            "type": "scattergl"
           }
          ],
          "scattermapbox": [
           {
            "marker": {
             "colorbar": {
              "outlinewidth": 0,
              "ticks": ""
             }
            },
            "type": "scattermapbox"
           }
          ],
          "scatterpolar": [
           {
            "marker": {
             "colorbar": {
              "outlinewidth": 0,
              "ticks": ""
             }
            },
            "type": "scatterpolar"
           }
          ],
          "scatterpolargl": [
           {
            "marker": {
             "colorbar": {
              "outlinewidth": 0,
              "ticks": ""
             }
            },
            "type": "scatterpolargl"
           }
          ],
          "scatterternary": [
           {
            "marker": {
             "colorbar": {
              "outlinewidth": 0,
              "ticks": ""
             }
            },
            "type": "scatterternary"
           }
          ],
          "surface": [
           {
            "colorbar": {
             "outlinewidth": 0,
             "ticks": ""
            },
            "colorscale": [
             [
              0,
              "#0d0887"
             ],
             [
              0.1111111111111111,
              "#46039f"
             ],
             [
              0.2222222222222222,
              "#7201a8"
             ],
             [
              0.3333333333333333,
              "#9c179e"
             ],
             [
              0.4444444444444444,
              "#bd3786"
             ],
             [
              0.5555555555555556,
              "#d8576b"
             ],
             [
              0.6666666666666666,
              "#ed7953"
             ],
             [
              0.7777777777777778,
              "#fb9f3a"
             ],
             [
              0.8888888888888888,
              "#fdca26"
             ],
             [
              1,
              "#f0f921"
             ]
            ],
            "type": "surface"
           }
          ],
          "table": [
           {
            "cells": {
             "fill": {
              "color": "#EBF0F8"
             },
             "line": {
              "color": "white"
             }
            },
            "header": {
             "fill": {
              "color": "#C8D4E3"
             },
             "line": {
              "color": "white"
             }
            },
            "type": "table"
           }
          ]
         },
         "layout": {
          "annotationdefaults": {
           "arrowcolor": "#2a3f5f",
           "arrowhead": 0,
           "arrowwidth": 1
          },
          "autotypenumbers": "strict",
          "coloraxis": {
           "colorbar": {
            "outlinewidth": 0,
            "ticks": ""
           }
          },
          "colorscale": {
           "diverging": [
            [
             0,
             "#8e0152"
            ],
            [
             0.1,
             "#c51b7d"
            ],
            [
             0.2,
             "#de77ae"
            ],
            [
             0.3,
             "#f1b6da"
            ],
            [
             0.4,
             "#fde0ef"
            ],
            [
             0.5,
             "#f7f7f7"
            ],
            [
             0.6,
             "#e6f5d0"
            ],
            [
             0.7,
             "#b8e186"
            ],
            [
             0.8,
             "#7fbc41"
            ],
            [
             0.9,
             "#4d9221"
            ],
            [
             1,
             "#276419"
            ]
           ],
           "sequential": [
            [
             0,
             "#0d0887"
            ],
            [
             0.1111111111111111,
             "#46039f"
            ],
            [
             0.2222222222222222,
             "#7201a8"
            ],
            [
             0.3333333333333333,
             "#9c179e"
            ],
            [
             0.4444444444444444,
             "#bd3786"
            ],
            [
             0.5555555555555556,
             "#d8576b"
            ],
            [
             0.6666666666666666,
             "#ed7953"
            ],
            [
             0.7777777777777778,
             "#fb9f3a"
            ],
            [
             0.8888888888888888,
             "#fdca26"
            ],
            [
             1,
             "#f0f921"
            ]
           ],
           "sequentialminus": [
            [
             0,
             "#0d0887"
            ],
            [
             0.1111111111111111,
             "#46039f"
            ],
            [
             0.2222222222222222,
             "#7201a8"
            ],
            [
             0.3333333333333333,
             "#9c179e"
            ],
            [
             0.4444444444444444,
             "#bd3786"
            ],
            [
             0.5555555555555556,
             "#d8576b"
            ],
            [
             0.6666666666666666,
             "#ed7953"
            ],
            [
             0.7777777777777778,
             "#fb9f3a"
            ],
            [
             0.8888888888888888,
             "#fdca26"
            ],
            [
             1,
             "#f0f921"
            ]
           ]
          },
          "colorway": [
           "#636efa",
           "#EF553B",
           "#00cc96",
           "#ab63fa",
           "#FFA15A",
           "#19d3f3",
           "#FF6692",
           "#B6E880",
           "#FF97FF",
           "#FECB52"
          ],
          "font": {
           "color": "#2a3f5f"
          },
          "geo": {
           "bgcolor": "white",
           "lakecolor": "white",
           "landcolor": "#E5ECF6",
           "showlakes": true,
           "showland": true,
           "subunitcolor": "white"
          },
          "hoverlabel": {
           "align": "left"
          },
          "hovermode": "closest",
          "mapbox": {
           "style": "light"
          },
          "paper_bgcolor": "white",
          "plot_bgcolor": "#E5ECF6",
          "polar": {
           "angularaxis": {
            "gridcolor": "white",
            "linecolor": "white",
            "ticks": ""
           },
           "bgcolor": "#E5ECF6",
           "radialaxis": {
            "gridcolor": "white",
            "linecolor": "white",
            "ticks": ""
           }
          },
          "scene": {
           "xaxis": {
            "backgroundcolor": "#E5ECF6",
            "gridcolor": "white",
            "gridwidth": 2,
            "linecolor": "white",
            "showbackground": true,
            "ticks": "",
            "zerolinecolor": "white"
           },
           "yaxis": {
            "backgroundcolor": "#E5ECF6",
            "gridcolor": "white",
            "gridwidth": 2,
            "linecolor": "white",
            "showbackground": true,
            "ticks": "",
            "zerolinecolor": "white"
           },
           "zaxis": {
            "backgroundcolor": "#E5ECF6",
            "gridcolor": "white",
            "gridwidth": 2,
            "linecolor": "white",
            "showbackground": true,
            "ticks": "",
            "zerolinecolor": "white"
           }
          },
          "shapedefaults": {
           "line": {
            "color": "#2a3f5f"
           }
          },
          "ternary": {
           "aaxis": {
            "gridcolor": "white",
            "linecolor": "white",
            "ticks": ""
           },
           "baxis": {
            "gridcolor": "white",
            "linecolor": "white",
            "ticks": ""
           },
           "bgcolor": "#E5ECF6",
           "caxis": {
            "gridcolor": "white",
            "linecolor": "white",
            "ticks": ""
           }
          },
          "title": {
           "x": 0.05
          },
          "xaxis": {
           "automargin": true,
           "gridcolor": "white",
           "linecolor": "white",
           "ticks": "",
           "title": {
            "standoff": 15
           },
           "zerolinecolor": "white",
           "zerolinewidth": 2
          },
          "yaxis": {
           "automargin": true,
           "gridcolor": "white",
           "linecolor": "white",
           "ticks": "",
           "title": {
            "standoff": 15
           },
           "zerolinecolor": "white",
           "zerolinewidth": 2
          }
         }
        },
        "title": {
         "text": "Hasil KMeans Clustering"
        }
       }
      }
     },
     "metadata": {},
     "output_type": "display_data"
    }
   ],
   "source": [
    "import plotly.graph_objects as go\n",
    "\n",
    "# Scatter plots for each cluster\n",
    "trace1 = go.Scatter3d(\n",
    "    x=data_train[y_kmeans == 0].iloc[:, 0],\n",
    "    y=data_train[y_kmeans == 0].iloc[:, 1],\n",
    "    z=data_train[y_kmeans == 0].iloc[:, 2],\n",
    "    mode='markers',\n",
    "    marker=dict(size=8, color='red', opacity=0.8),\n",
    "    name='Cluster 1'\n",
    ")\n",
    "\n",
    "trace2 = go.Scatter3d(\n",
    "    x=data_train[y_kmeans == 1].iloc[:, 0],\n",
    "    y=data_train[y_kmeans == 1].iloc[:, 1],\n",
    "    z=data_train[y_kmeans == 1].iloc[:, 2],\n",
    "    mode='markers',\n",
    "    marker=dict(size=8, color='blue', opacity=0.8),\n",
    "    name='Cluster 2'\n",
    ")\n",
    "\n",
    "trace3 = go.Scatter3d(\n",
    "    x=data_train[y_kmeans == 2].iloc[:, 0],\n",
    "    y=data_train[y_kmeans == 2].iloc[:, 1],\n",
    "    z=data_train[y_kmeans == 2].iloc[:, 2],\n",
    "    mode='markers',\n",
    "    marker=dict(size=8, color='green', opacity=0.8),\n",
    "    name='Cluster 3'\n",
    ")\n",
    "\n",
    "trace4 = go.Scatter3d(\n",
    "    x=data_train[y_kmeans == 3].iloc[:, 0],\n",
    "    y=data_train[y_kmeans == 3].iloc[:, 1],\n",
    "    z=data_train[y_kmeans == 3].iloc[:, 2],\n",
    "    mode='markers',\n",
    "    marker=dict(size=8, color='purple', opacity=0.8),\n",
    "    name='Cluster 4'\n",
    ")\n",
    "\n",
    "# Scatter plot for centroids\n",
    "centroids = go.Scatter3d(\n",
    "    x=kmeansmodel.cluster_centers_[:, 0],\n",
    "    y=kmeansmodel.cluster_centers_[:, 1],\n",
    "    z=kmeansmodel.cluster_centers_[:, 2],\n",
    "    mode='markers',\n",
    "    marker=dict(size=12, color='black', symbol='diamond', opacity=1),\n",
    "    name='Centroids'\n",
    ")\n",
    "\n",
    "# Layout\n",
    "layout = go.Layout(\n",
    "    title='Hasil KMeans Clustering',\n",
    "    scene=dict(\n",
    "        xaxis_title='Age',\n",
    "        yaxis_title='Annual Income',\n",
    "        zaxis_title='Time on Site'\n",
    "    ),\n",
    "    showlegend=True\n",
    ")\n",
    "\n",
    "# Combine all traces\n",
    "fig = go.Figure(data=[trace1, trace2, trace3, trace4, centroids], layout=layout)\n",
    "\n",
    "# Display plot\n",
    "fig.show()\n"
   ]
  },
  {
   "cell_type": "code",
   "execution_count": 19,
   "metadata": {},
   "outputs": [],
   "source": [
    "# Fungsi untuk menghitung jumlah pembelian (frekuensi) dalam Purchase History\n",
    "def count_purchases(purchase_history):\n",
    "    # Mengganti kutip tunggal dengan kutip ganda jika ada\n",
    "    purchase_history = purchase_history.replace(\"'\", '\"')\n",
    "    \n",
    "    try:\n",
    "        # Mengubah string JSON menjadi list\n",
    "        purchase_list = json.loads(purchase_history)\n",
    "        return len(purchase_list)\n",
    "    except json.JSONDecodeError as e:\n",
    "        return 0\n",
    "\n",
    "# Terapkan fungsi ke kolom Purchase History dan simpan hasilnya ke kolom baru\n",
    "data['Frekuensi Purchase History'] = data['Purchase History'].apply(count_purchases)\n",
    "\n",
    "# Simpan dataframe hasil ke file baru jika diperlukan\n",
    "data.to_csv('E-commerce_with_frequencies.csv', index=False)\n"
   ]
  },
  {
   "cell_type": "code",
   "execution_count": 23,
   "metadata": {},
   "outputs": [
    {
     "data": {
      "text/plain": [
       "<Axes: >"
      ]
     },
     "execution_count": 23,
     "metadata": {},
     "output_type": "execute_result"
    },
    {
     "data": {
      "image/png": "[encoded data removed]",
      "text/plain": [
       "<Figure size 1500x1000 with 2 Axes>"
      ]
     },
     "metadata": {},
     "output_type": "display_data"
    }
   ],
   "source": [
    "#Kita cek korelasi matrixnya semakin mendekati 1 maka korelasi naik yang artinya semakin annual income naik maka umur juga semakin naik\n",
    "col_box = [\"Age\",\"Annual Income\",\"Time on Site\",\"Frekuensi Purchase History\"]\n",
    "plt.figure(figsize=(15,10))\n",
    "sns.heatmap(data[col_box].corr(), cmap=\"YlGnBu\", annot=True)"
   ]
  },
  {
   "cell_type": "code",
   "execution_count": 21,
   "metadata": {},
   "outputs": [
    {
     "name": "stdout",
     "output_type": "stream",
     "text": [
      "   Age  Annual Income  Time on Site  Frekuensi Purchase History  Age Rank  \\\n",
      "0   25          45000         32.50                           3      47.5   \n",
      "1   28          52000        123.45                           2      44.0   \n",
      "2   28          65000        125.60                           2      44.0   \n",
      "3   45          70000        327.60                           0      17.5   \n",
      "4   34          45000        214.90                           0      32.5   \n",
      "\n",
      "   Income Rank  TimeOnSite Rank  Frekuensi Purchase History Rank  \n",
      "0         43.5             50.0                              3.0  \n",
      "1         37.0             39.0                             10.5  \n",
      "2         26.0             37.0                             10.5  \n",
      "3         21.0             10.0                             34.0  \n",
      "4         43.5             28.0                             34.0  \n"
     ]
    }
   ],
   "source": [
    "data['Age Rank'] = data['Age'].rank(ascending=False)  # Peringkat usia dari tertua ke termuda\n",
    "data['Income Rank'] = data['Annual Income'].rank(ascending=False)  # Peringkat pendapatan dari tertinggi ke terendah\n",
    "data['TimeOnSite Rank'] = data['Time on Site'].rank(ascending=False)  # Peringkat waktu di situs dari terbanyak ke tersedikit\n",
    "data['Frekuensi Purchase History Rank'] = data['Frekuensi Purchase History'].rank(ascending=False) # Peringkat frekuensi pembelian dari terbanyak ke tersedikit \n",
    "\n",
    "# Menampilkan DataFrame dengan peringkat baru\n",
    "print(data[['Age', 'Annual Income', 'Time on Site','Frekuensi Purchase History', 'Age Rank', 'Income Rank', 'TimeOnSite Rank','Frekuensi Purchase History Rank']].head())\n"
   ]
  },
  {
   "cell_type": "markdown",
   "metadata": {},
   "source": [
    "Insight yang bisa kita dapat adalah\n",
    "\n",
    "1. Semakin rendah umur maka semakin kecil pendapatan dan semakin kecil waktu di e-commerce namun juga semakin besar pembelian\n",
    "2. Semakin tinggi umur maka semakin besar pendapatan dan semakin banyak waktu di e-commerce namun pembelian semakin kecil\n",
    "\n",
    "kesimpulannya adalah mungkin ketika kita masih muda maka kita suka belanja padahal duit masih pas pas an tapi ketika sudah semakin dewasa cukup hanya melihat di etalase tanpa harus memilikinya sudah menjadi kebiasaannya xixiixxi \n",
    "\n",
    "SEKIAN ARIGATOOO"
   ]
  }
 ],
 "metadata": {
  "kernelspec": {
   "display_name": "Python 3",
   "language": "python",
   "name": "python3"
  },
  "language_info": {
   "codemirror_mode": {
    "name": "ipython",
    "version": 3
   },
   "file_extension": ".py",
   "mimetype": "text/x-python",
   "name": "python",
   "nbconvert_exporter": "python",
   "pygments_lexer": "ipython3",
   "version": "3.11.5"
  }
 },
 "nbformat": 4,
 "nbformat_minor": 2
}
